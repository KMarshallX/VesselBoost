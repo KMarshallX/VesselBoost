{
 "cells": [
  {
   "cell_type": "markdown",
   "id": "3271cab5",
   "metadata": {},
   "source": [
    "# Vessel boost toolbox"
   ]
  },
  {
   "cell_type": "markdown",
   "id": "a1323165",
   "metadata": {},
   "source": [
    "## 1. Initinal training"
   ]
  },
  {
   "cell_type": "markdown",
   "id": "93cb4ec8",
   "metadata": {},
   "source": [
    "If you are working outside of a container, you can store you data under *data* folder as the instruction below. If you are working inside a container, you can mount your data folder to *./data/train/* and  *./data/label/*.\n",
    "\n",
    "Please make sure that the name of a segmentation image file should contain the FULL NAME of its corresponding MRI image. \n",
    "e.g.:\n",
    "\n",
    "**Raw image:** TOF_3895.nii.gz\n",
    "\n",
    "**Segmentation image:** seg_TOF_3895.nii.gz or TOF_3895_seg.nii.gz, just make sure it contains the \"TOF_3895\"."
   ]
  },
  {
   "cell_type": "code",
   "execution_count": 1,
   "id": "6f0a2fca",
   "metadata": {
    "scrolled": true
   },
   "outputs": [
    {
     "name": "stdout",
     "output_type": "stream",
     "text": [
      "Training session will start shortly..\n",
      "Aborting the preprocessing procedure!\n",
      "\n",
      "All images have been loaded, the training process will start soon!\n",
      "Epoch: [1/10], Loss:  0.9851, Current learning rate:  0.00100000                \n",
      "Epoch: [2/10], Loss:  0.9758, Current learning rate:  0.00100000                \n",
      "Epoch: [3/10], Loss:  0.9773, Current learning rate:  0.00100000                \n",
      "Epoch: [4/10], Loss:  0.9739, Current learning rate:  0.00100000                \n",
      "Epoch: [5/10], Loss:  0.9742, Current learning rate:  0.00100000                \n",
      "Epoch: [6/10], Loss:  0.9698, Current learning rate:  0.00100000                \n",
      "Epoch: [7/10], Loss:  0.9688, Current learning rate:  0.00100000                \n",
      "Epoch: [8/10], Loss:  0.9691, Current learning rate:  0.00100000                \n",
      "Epoch: [9/10], Loss:  0.9880, Current learning rate:  0.00100000                \n",
      "Epoch: [10/10], Loss:  0.9725, Current learning rate:  0.00095000               \n",
      "100%|███████████████████████████████████████████| 10/10 [00:11<00:00,  1.11s/it]\n",
      "Training finished! Please wait for the model to be saved!\n",
      "Model successfully saved! The location of the saved model is: ./../saved_models/test_model\n"
     ]
    }
   ],
   "source": [
    "# Set the necessary parameters\n",
    "# If you set prep_mode to 4, which means no preprocessing will happen, then you don't have to set a path to store the preprocessed images\n",
    "!python ./../train.py --ds_path ./../../data/img/ --lb_path ./../../data/seg/ --prep_mode 4 --ep 10 --lr 1e-3 --outmo ./../saved_models/test_model\n"
   ]
  },
  {
   "cell_type": "code",
   "execution_count": 5,
   "id": "6e6020ae",
   "metadata": {},
   "outputs": [
    {
     "name": "stdout",
     "output_type": "stream",
     "text": [
      "Training session will start shortly..\n",
      "The preprocessing procedure is starting!\n",
      "\n",
      "100%|████████████████████████████████████████████| 1/1 [03:19<00:00, 199.95s/it]\n",
      "All processed images are successfully saved!\n",
      "All images have been loaded, the training process will start soon!\n",
      "Epoch: [1/10], Loss:  0.9878, Current learning rate:  0.00100000                \n",
      "Epoch: [2/10], Loss:  0.9901, Current learning rate:  0.00100000                \n",
      "Epoch: [3/10], Loss:  0.9631, Current learning rate:  0.00100000                \n",
      "Epoch: [4/10], Loss:  0.9818, Current learning rate:  0.00100000                \n",
      "Epoch: [5/10], Loss:  0.9702, Current learning rate:  0.00100000                \n",
      "Epoch: [6/10], Loss:  0.9818, Current learning rate:  0.00095000                \n",
      "Epoch: [7/10], Loss:  0.9713, Current learning rate:  0.00095000                \n",
      "Epoch: [8/10], Loss:  0.9744, Current learning rate:  0.00095000                \n",
      "Epoch: [9/10], Loss:  0.9778, Current learning rate:  0.00090250                \n",
      "Epoch: [10/10], Loss:  0.9792, Current learning rate:  0.00090250               \n",
      "100%|███████████████████████████████████████████| 10/10 [00:06<00:00,  1.63it/s]\n",
      "Training finished! Please wait for the model to be saved!\n",
      "Model successfully saved! The location of the saved model is: ./../saved_models/test_model\n"
     ]
    }
   ],
   "source": [
    "# If you set prep_mode to 1,2 or 3, which means both/one of denosing and N4 bias field correction will happen, then you have to set a path to store the preprocessed images\n",
    "!python ./../train.py --ds_path ./../../data/img/ --lb_path ./../../data/seg/ --prep_mode 1 --ps_path ./../../data/preprocessed/ --ep 10 --lr 1e-3 --outmo ./../saved_models/test_model\n"
   ]
  },
  {
   "cell_type": "markdown",
   "id": "4c82ea5a",
   "metadata": {},
   "source": [
    "## 2. Inference"
   ]
  },
  {
   "cell_type": "markdown",
   "id": "2070ee20",
   "metadata": {},
   "source": [
    "This is a stand-alone module to produce segmentation of input images by using a pre-trained model."
   ]
  },
  {
   "cell_type": "code",
   "execution_count": 1,
   "id": "1b45a87d",
   "metadata": {},
   "outputs": [
    {
     "name": "stdout",
     "output_type": "stream",
     "text": [
      "Inference session will start shortly..\n",
      "Aborting the preprocessing procedure!\n",
      "\n",
      "Running with GPU\n",
      "Prediction procedure starts!\n",
      "100%|█████████████████████████████████████████████| 6/6 [01:11<00:00, 11.84s/it]\n",
      "Prediction procedure ends! Please wait for the post processing!\n",
      "Output processed GRE_3D_400um_TR20_FA18_TE7p5_14_sli52_FCY_GMP_BW200_32_biasCor.nii is successfully saved!\n",
      "\n",
      "Output MIP image GRE_3D_400um_TR20_FA18_TE7p5_14_sli52_FCY_GMP_BW200_32_biasCor.nii is successfully saved!\n",
      "\n",
      "Prediction and thresholding procedure end!\n",
      "\n"
     ]
    }
   ],
   "source": [
    "# Set the necessary parameters\n",
    "# If you set prep_mode to 4, which means no preprocessing will happen, then you don't have to set a path to store the preprocessed images\n",
    "!python ./../inference.py --ds_path ./../../data/img/ --out_path ./../../data/predicted_label/ --pretrained ./../saved_models/test_model --prep_mode 4"
   ]
  },
  {
   "cell_type": "code",
   "execution_count": 2,
   "id": "aeb55f49",
   "metadata": {},
   "outputs": [
    {
     "name": "stdout",
     "output_type": "stream",
     "text": [
      "Inference session will start shortly..\n",
      "The preprocessing procedure is starting!\n",
      "\n",
      "100%|████████████████████████████████████████████| 1/1 [03:19<00:00, 199.49s/it]\n",
      "All processed images are successfully saved!\n",
      "Running with GPU\n",
      "Prediction procedure starts!\n",
      "100%|█████████████████████████████████████████████| 6/6 [01:10<00:00, 11.83s/it]\n",
      "Prediction procedure ends! Please wait for the post processing!\n",
      "Output processed GRE_3D_400um_TR20_FA18_TE7p5_14_sli52_FCY_GMP_BW200_32_biasCor.nii is successfully saved!\n",
      "\n",
      "Output MIP image GRE_3D_400um_TR20_FA18_TE7p5_14_sli52_FCY_GMP_BW200_32_biasCor.nii is successfully saved!\n",
      "\n",
      "Prediction and thresholding procedure end!\n",
      "\n"
     ]
    }
   ],
   "source": [
    "# If you set prep_mode to 1,2 or 3, which means both/one of denosing and N4 bias field correction will happen, then you have to set a path to store the preprocessed images\n",
    "!python ./../inference.py --ds_path ./../../data/img/ --ps_path ./../../data/preprocessed/ --out_path ./../../data/predicted_label/ --pretrained ./../saved_models/test_model --prep_mode 1 "
   ]
  },
  {
   "cell_type": "markdown",
   "id": "15dda4a9",
   "metadata": {},
   "source": [
    "## 3. Test-time adaptation "
   ]
  },
  {
   "cell_type": "markdown",
   "id": "2da245f6",
   "metadata": {},
   "source": [
    "Test-time adaptation module for further optimization of a pre-trained model. \n"
   ]
  },
  {
   "cell_type": "markdown",
   "id": "cf325dd9",
   "metadata": {},
   "source": [
    "### Pre-trained models promptly available on OSF\n",
    "\n",
    "We are currently provide 3 pre-trained models, you can download them to make infetence on your images by running the following cell:"
   ]
  },
  {
   "cell_type": "markdown",
   "id": "8c36dd4c",
   "metadata": {},
   "source": [
    "When doing in on Terminal, you could run the following code to create a path to save our provided pre-trained models. While in this tutorial notebook, we used _Python os library_ to change work directory.\n",
    "```bash\n",
    "mkdir ./../saved_models\n",
    "cd ./../saved_models/\n",
    "\n",
    "# Each line of code below corresponds to a pre-trained model\n",
    "osf -p abk4p fetch /pretrained_models/manual_ep5000_0621\n",
    "osf -p abk4p fetch /pretrained_models/om1_ep5000_0711\n",
    "osf -p abk4p fetch /pretrained_models/om2_ep5000_0711\n",
    "```"
   ]
  },
  {
   "cell_type": "code",
   "execution_count": 11,
   "id": "40671286",
   "metadata": {},
   "outputs": [
    {
     "name": "stdout",
     "output_type": "stream",
     "text": [
      "100%|███████████████████████████████████| 26.4M/26.4M [00:00<00:00, 122Mbytes/s]\n"
     ]
    }
   ],
   "source": [
    "import os\n",
    "os.chdir('./../saved_models/')\n",
    "\n",
    "!osf -p abk4p fetch /pretrained_models/manual_ep5000_0621\n",
    "# !osf -p abk4p fetch /pretrained_models/om1_ep5000_0711\n",
    "# !osf -p abk4p fetch /pretrained_models/om2_ep5000_0711\n"
   ]
  },
  {
   "cell_type": "markdown",
   "id": "f1f320dd",
   "metadata": {},
   "source": [
    "### TTA without a proxy\n",
    "You could apply this module directly on your on data without providing the proxy segmentation. This module will automatically generate proxies and finetune the model. If you set prep_mode to 4, which means no preprocessing will happen, then you don't have to set a path to store the preprocessed images. Note that the input path must only contain the nifti images for processing and be different to the output path."
   ]
  },
  {
   "cell_type": "code",
   "execution_count": 15,
   "id": "c759a58e",
   "metadata": {},
   "outputs": [
    {
     "name": "stdout",
     "output_type": "stream",
     "text": [
      "./../../data/predicted_label/proxies/ does not exist.\n",
      "./../../data/predicted_label/proxies/ has been created!\n",
      "./../../data/predicted_label/finetuned/ does not exist.\n",
      "./../../data/predicted_label/finetuned/ has been created!\n",
      "TTA session will start shortly..\n",
      "Aborting the preprocessing procedure!\n",
      "\n",
      "No proxies are provided, strating generating proxies...\n",
      "Running with GPU\n",
      "Prediction procedure starts!\n",
      "100%|█████████████████████████████████████████████| 6/6 [01:12<00:00, 12.08s/it]\n",
      "Prediction procedure ends! Please wait for the post processing!\n",
      "Output processed GRE_3D_400um_TR20_FA18_TE7p5_14_sli52_FCY_GMP_BW200_32_biasCor.nii is successfully saved!\n",
      "\n",
      "Prediction and thresholding procedure end!\n",
      "\n",
      "Proxies are provided!\n",
      "Running with GPU\n",
      "The chosen model is: ./../saved_models/manual_ep5000_0621\n",
      "Finetuning procedure starts!\n",
      "Epoch: [1/50], Loss:  0.2652, Current learning rate:  0.00100000                \n",
      "Epoch: [2/50], Loss:  0.7078, Current learning rate:  0.00100000                \n",
      "Epoch: [3/50], Loss:  0.4598, Current learning rate:  0.00100000                \n",
      "Epoch: [4/50], Loss:  0.7413, Current learning rate:  0.00100000                \n",
      "Epoch: [5/50], Loss:  0.6562, Current learning rate:  0.00100000                \n",
      "Epoch: [6/50], Loss:  0.6292, Current learning rate:  0.00100000                \n",
      "Epoch: [7/50], Loss:  0.4398, Current learning rate:  0.00100000                \n",
      "Epoch: [8/50], Loss:  0.6577, Current learning rate:  0.00100000                \n",
      "Epoch: [9/50], Loss:  0.8221, Current learning rate:  0.00100000                \n",
      "Epoch: [10/50], Loss:  0.5404, Current learning rate:  0.00100000               \n",
      "Epoch: [11/50], Loss:  0.5769, Current learning rate:  0.00100000               \n",
      "Epoch: [12/50], Loss:  0.7489, Current learning rate:  0.00095000               \n",
      "Epoch: [13/50], Loss:  0.5788, Current learning rate:  0.00095000               \n",
      "Epoch: [14/50], Loss:  0.5620, Current learning rate:  0.00095000               \n",
      "Epoch: [15/50], Loss:  0.5490, Current learning rate:  0.00095000               \n",
      "Epoch: [16/50], Loss:  0.5761, Current learning rate:  0.00095000               \n",
      "Epoch: [17/50], Loss:  0.6036, Current learning rate:  0.00095000               \n",
      "Epoch: [18/50], Loss:  0.0000, Current learning rate:  0.00095000               \n",
      "Epoch: [19/50], Loss:  0.6581, Current learning rate:  0.00095000               \n",
      "Epoch: [20/50], Loss:  0.5131, Current learning rate:  0.00095000               \n",
      "Epoch: [21/50], Loss:  0.4685, Current learning rate:  0.00095000               \n",
      "Epoch: [22/50], Loss:  0.5445, Current learning rate:  0.00095000               \n",
      "Epoch: [23/50], Loss:  0.9419, Current learning rate:  0.00095000               \n",
      "Epoch: [24/50], Loss:  0.6202, Current learning rate:  0.00095000               \n",
      "Epoch: [25/50], Loss:  0.6004, Current learning rate:  0.00095000               \n",
      "Epoch: [26/50], Loss:  0.5791, Current learning rate:  0.00095000               \n",
      "Epoch: [27/50], Loss:  0.2850, Current learning rate:  0.00095000               \n",
      "Epoch: [28/50], Loss:  0.3820, Current learning rate:  0.00095000               \n",
      "Epoch: [29/50], Loss:  0.5331, Current learning rate:  0.00090250               \n",
      "Epoch: [30/50], Loss:  0.5090, Current learning rate:  0.00090250               \n",
      "Epoch: [31/50], Loss:  0.5993, Current learning rate:  0.00090250               \n",
      "Epoch: [32/50], Loss:  0.7712, Current learning rate:  0.00090250               \n",
      "Epoch: [33/50], Loss:  0.0000, Current learning rate:  0.00090250               \n",
      "Epoch: [34/50], Loss:  0.5183, Current learning rate:  0.00090250               \n",
      "Epoch: [35/50], Loss:  0.3595, Current learning rate:  0.00090250               \n",
      "Epoch: [36/50], Loss:  0.5639, Current learning rate:  0.00090250               \n",
      "Epoch: [37/50], Loss:  0.4870, Current learning rate:  0.00090250               \n",
      "Epoch: [38/50], Loss:  0.5015, Current learning rate:  0.00090250               \n",
      "Epoch: [39/50], Loss:  0.3950, Current learning rate:  0.00090250               \n",
      "Epoch: [40/50], Loss:  0.6017, Current learning rate:  0.00085737               \n",
      "Epoch: [41/50], Loss:  0.5686, Current learning rate:  0.00085737               \n",
      "Epoch: [42/50], Loss:  0.4994, Current learning rate:  0.00085737               \n",
      "Epoch: [43/50], Loss:  0.4496, Current learning rate:  0.00085737               \n",
      "Epoch: [44/50], Loss:  0.3769, Current learning rate:  0.00085737               \n",
      "Epoch: [45/50], Loss:  0.6191, Current learning rate:  0.00085737               \n",
      "Epoch: [46/50], Loss:  0.6068, Current learning rate:  0.00085737               \n",
      "Epoch: [47/50], Loss:  0.4759, Current learning rate:  0.00085737               \n",
      "Epoch: [48/50], Loss:  0.7651, Current learning rate:  0.00085737               \n",
      "Epoch: [49/50], Loss:  0.4090, Current learning rate:  0.00085737               \n",
      "Epoch: [50/50], Loss:  0.7125, Current learning rate:  0.00085737               \n",
      "100%|███████████████████████████████████████████| 50/50 [00:24<00:00,  2.04it/s]\n",
      "Training finished! The finetuning model of GRE_3D_400um_TR20_FA18_TE7p5_14_sli52_FCY_GMP_BW200_32_biasCor successfully saved!\n",
      "\n",
      "Final thresholding for GRE_3D_400um_TR20_FA18_TE7p5_14_sli52_FCY_GMP_BW200_32_biasCor will start shortly!\n",
      "\n",
      "Running with GPU\n",
      "Prediction procedure starts!\n",
      "100%|█████████████████████████████████████████████| 6/6 [01:10<00:00, 11.82s/it]\n",
      "Prediction procedure ends! Please wait for the post processing!\n",
      "Output processed GRE_3D_400um_TR20_FA18_TE7p5_14_sli52_FCY_GMP_BW200_32_biasCor.nii is successfully saved!\n",
      "\n",
      "Output MIP image GRE_3D_400um_TR20_FA18_TE7p5_14_sli52_FCY_GMP_BW200_32_biasCor.nii is successfully saved!\n",
      "\n",
      "Prediction and thresholding procedure end!\n",
      "\n",
      "The test-time adaptation is finished!\n",
      "\n",
      "Resource optimization is disabled, all intermediate files are saved locally!\n",
      "\n",
      "Finetuned model -> ./../../data/predicted_label/finetuned/\n",
      "\n",
      "Intermediate proxy -> ./../../data/predicted_label/proxies/\n",
      "\n"
     ]
    }
   ],
   "source": [
    "!python ./../test_time_adaptation.py --ds_path ./../../data/img/ --out_path ./../../data/predicted_label/ --pretrained ./../saved_models/manual_ep5000_0621 --prep_mode 4 --ep 50 --lr 1e-3 "
   ]
  },
  {
   "cell_type": "markdown",
   "id": "5149bbed",
   "metadata": {},
   "source": [
    "Vessel Boost will generate both .nii segmentation file and its maximum intensity projection (.jpg). Here's the MIP image we just generated:\\\n",
    "![Mip](./../../data/predicted_label/GRE_3D_400um_TR20_FA18_TE7p5_14_sli52_FCY_GMP_BW200_32_biasCor.jpg)"
   ]
  },
  {
   "cell_type": "markdown",
   "id": "ab282c56",
   "metadata": {},
   "source": [
    "Similar to the previous two modules (train.py and inference.py), if you set prep_mode to 1,2 or 3, which means both(1), denosing(2) or N4 bias field correction(3) will be applied to the input images, and you have to set a path to store the preprocessed images. \n",
    "e.g.:\n",
    "\n",
    "```bash\n",
    "!python ./../test_time_adaptation.py --ds_path ./../../data/img/ --ps_path ./../../data/preprocessed/ --out_path ./../../data/predicted_label/ --pretrained ./../saved_models/manual_ep5000_0621 --prep_mode 1 --ep 50 --lr 1e-3 \n",
    "```"
   ]
  },
  {
   "cell_type": "markdown",
   "id": "4578904b",
   "metadata": {},
   "source": [
    "### TTA with a specified proxy\n",
    "You can provide a proxy segmentation which will be used for the test-time-adaption instead of the automatically generated proxies. This segmentation can be created using any methods, for example manual labelling or other, non-deep-learning methods. We will use the filenames to match the raw images and proxy segmentations. \\\n",
    "In the following example, we simply used the proxy segmentation generated by the previous section:\n"
   ]
  },
  {
   "cell_type": "code",
   "execution_count": 16,
   "id": "88c5923f",
   "metadata": {},
   "outputs": [
    {
     "name": "stdout",
     "output_type": "stream",
     "text": [
      "TTA session will start shortly..\n",
      "Aborting the preprocessing procedure!\n",
      "\n",
      "Proxies are provided!\n",
      "Running with GPU\n",
      "The chosen model is: ./../saved_models/manual_ep5000_0621\n",
      "Finetuning procedure starts!\n",
      "Epoch: [1/50], Loss:  0.7329, Current learning rate:  0.00100000                \n",
      "Epoch: [2/50], Loss:  0.8621, Current learning rate:  0.00100000                \n",
      "Epoch: [3/50], Loss:  0.8814, Current learning rate:  0.00100000                \n",
      "Epoch: [4/50], Loss:  0.5075, Current learning rate:  0.00100000                \n",
      "Epoch: [5/50], Loss:  0.5418, Current learning rate:  0.00100000                \n",
      "Epoch: [6/50], Loss:  0.7117, Current learning rate:  0.00100000                \n",
      "Epoch: [7/50], Loss:  0.4220, Current learning rate:  0.00100000                \n",
      "Epoch: [8/50], Loss:  0.5389, Current learning rate:  0.00100000                \n",
      "Epoch: [9/50], Loss:  0.5014, Current learning rate:  0.00100000                \n",
      "Epoch: [10/50], Loss:  0.5441, Current learning rate:  0.00100000               \n",
      "Epoch: [11/50], Loss:  0.4435, Current learning rate:  0.00100000               \n",
      "Epoch: [12/50], Loss:  0.6827, Current learning rate:  0.00100000               \n",
      "Epoch: [13/50], Loss:  0.3380, Current learning rate:  0.00100000               \n",
      "Epoch: [14/50], Loss:  0.3930, Current learning rate:  0.00100000               \n",
      "Epoch: [15/50], Loss:  0.4331, Current learning rate:  0.00100000               \n",
      "Epoch: [16/50], Loss:  0.3859, Current learning rate:  0.00100000               \n",
      "Epoch: [17/50], Loss:  0.5448, Current learning rate:  0.00100000               \n",
      "Epoch: [18/50], Loss:  0.4476, Current learning rate:  0.00100000               \n",
      "Epoch: [19/50], Loss:  0.2878, Current learning rate:  0.00100000               \n",
      "Epoch: [20/50], Loss:  0.4513, Current learning rate:  0.00100000               \n",
      "Epoch: [21/50], Loss:  0.4741, Current learning rate:  0.00100000               \n",
      "Epoch: [22/50], Loss:  0.4891, Current learning rate:  0.00100000               \n",
      "Epoch: [23/50], Loss:  0.5895, Current learning rate:  0.00100000               \n",
      "Epoch: [24/50], Loss:  0.5673, Current learning rate:  0.00100000               \n",
      "Epoch: [25/50], Loss:  0.5476, Current learning rate:  0.00100000               \n",
      "Epoch: [26/50], Loss:  0.6023, Current learning rate:  0.00100000               \n",
      "Epoch: [27/50], Loss:  0.4458, Current learning rate:  0.00100000               \n",
      "Epoch: [28/50], Loss:  0.5735, Current learning rate:  0.00100000               \n",
      "Epoch: [29/50], Loss:  0.5859, Current learning rate:  0.00100000               \n",
      "Epoch: [30/50], Loss:  0.3786, Current learning rate:  0.00095000               \n",
      "Epoch: [31/50], Loss:  0.4585, Current learning rate:  0.00095000               \n",
      "Epoch: [32/50], Loss:  0.6823, Current learning rate:  0.00095000               \n",
      "Epoch: [33/50], Loss:  0.5099, Current learning rate:  0.00095000               \n",
      "Epoch: [34/50], Loss:  0.5554, Current learning rate:  0.00095000               \n",
      "Epoch: [35/50], Loss:  0.5515, Current learning rate:  0.00095000               \n",
      "Epoch: [36/50], Loss:  0.4753, Current learning rate:  0.00095000               \n",
      "Epoch: [37/50], Loss:  0.3431, Current learning rate:  0.00095000               \n",
      "Epoch: [38/50], Loss:  0.6374, Current learning rate:  0.00095000               \n",
      "Epoch: [39/50], Loss:  0.5851, Current learning rate:  0.00095000               \n",
      "Epoch: [40/50], Loss:  0.6848, Current learning rate:  0.00095000               \n",
      "Epoch: [41/50], Loss:  0.5467, Current learning rate:  0.00090250               \n",
      "Epoch: [42/50], Loss:  0.3894, Current learning rate:  0.00090250               \n",
      "Epoch: [43/50], Loss:  0.4869, Current learning rate:  0.00090250               \n",
      "Epoch: [44/50], Loss:  0.4977, Current learning rate:  0.00090250               \n",
      "Epoch: [45/50], Loss:  0.5147, Current learning rate:  0.00090250               \n",
      "Epoch: [46/50], Loss:  0.4388, Current learning rate:  0.00090250               \n",
      "Epoch: [47/50], Loss:  0.5346, Current learning rate:  0.00090250               \n",
      "Epoch: [48/50], Loss:  0.6303, Current learning rate:  0.00090250               \n",
      "Epoch: [49/50], Loss:  0.4580, Current learning rate:  0.00090250               \n",
      "Epoch: [50/50], Loss:  0.3544, Current learning rate:  0.00090250               \n",
      "100%|███████████████████████████████████████████| 50/50 [00:24<00:00,  2.04it/s]\n",
      "Training finished! The finetuning model of GRE_3D_400um_TR20_FA18_TE7p5_14_sli52_FCY_GMP_BW200_32_biasCor successfully saved!\n",
      "\n",
      "Final thresholding for GRE_3D_400um_TR20_FA18_TE7p5_14_sli52_FCY_GMP_BW200_32_biasCor will start shortly!\n",
      "\n",
      "Running with GPU\n",
      "Prediction procedure starts!\n",
      "100%|█████████████████████████████████████████████| 6/6 [01:10<00:00, 11.68s/it]\n",
      "Prediction procedure ends! Please wait for the post processing!\n",
      "Output processed GRE_3D_400um_TR20_FA18_TE7p5_14_sli52_FCY_GMP_BW200_32_biasCor.nii is successfully saved!\n",
      "\n",
      "Output MIP image GRE_3D_400um_TR20_FA18_TE7p5_14_sli52_FCY_GMP_BW200_32_biasCor.nii is successfully saved!\n",
      "\n",
      "Prediction and thresholding procedure end!\n",
      "\n",
      "The test-time adaptation is finished!\n",
      "\n",
      "Resource optimization is disabled, all intermediate files are saved locally!\n",
      "\n",
      "Finetuned model -> ./../../data/predicted_label/finetuned/\n",
      "\n",
      "Intermediate proxy -> ./../../data/predicted_label/proxies/\n",
      "\n"
     ]
    }
   ],
   "source": [
    "!python ./../test_time_adaptation.py --ds_path ./../../data/img/ --px_path ./../../data/predicted_label/proxies/ --out_path ./../../data/predicted_label/ --pretrained ./../saved_models/manual_ep5000_0621 --prep_mode 4 --ep 50 --lr 1e-3 "
   ]
  },
  {
   "cell_type": "markdown",
   "id": "06299feb",
   "metadata": {},
   "source": [
    "The mip of the generated segmentation:\\\n",
    "![mip](./../../data/predicted_label/GRE_3D_400um_TR20_FA18_TE7p5_14_sli52_FCY_GMP_BW200_32_biasCor.jpg)"
   ]
  },
  {
   "cell_type": "markdown",
   "id": "27b66350",
   "metadata": {},
   "source": [
    "Similarily, if you set prep_mode to 1,2 or 3, which means both(1), denosing(2) or N4 bias field correction(3) will be applied to the input images, and you have to set a path to store the preprocessed images. \n",
    "e.g.:\n",
    "\n",
    "```bash\n",
    "!python ./../test_time_adaptation.py --ds_path ./../../data/img/ --px_path ./../../data/predicted_label/proxies/ --ps_path ./../../data/preprocessed/ --out_path ./../../data/predicted_label/ --pretrained ./../saved_models/manual_ep5000_0621 --prep_mode 1 --ep 50 --lr 1e-3 \n",
    "```"
   ]
  }
 ],
 "metadata": {
  "kernelspec": {
   "display_name": "Python 3",
   "language": "python",
   "name": "python3"
  },
  "language_info": {
   "codemirror_mode": {
    "name": "ipython",
    "version": 3
   },
   "file_extension": ".py",
   "mimetype": "text/x-python",
   "name": "python",
   "nbconvert_exporter": "python",
   "pygments_lexer": "ipython3",
   "version": "3.11.4"
  }
 },
 "nbformat": 4,
 "nbformat_minor": 5
}
