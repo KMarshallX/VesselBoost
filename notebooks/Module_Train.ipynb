{
 "cells": [
  {
   "cell_type": "markdown",
   "metadata": {},
   "source": [
    "# **VesselBoost Toolbox**\n",
    "## Train your own models\n",
    "VesselBoost also allows you to train new models based on UNET-3D architecture [Çiçek, Ö., et al. (2016)] used in our framework. \\\n",
    "This is analogous to our boost module, but here you would train models leveraging ground-truth segmentations. \\\n",
    "Like **Boost**, to use this module, first ensure that the raw images and segmentation files are stored separately (e.g., you can store your images in path_to_directory/data/image/ and the corresponding segmentations in path_to_directory/data/label/).\\\n",
    "Additionally, please make sure that the segmentation file name is the same as the raw image file name or that it matches with the following format:\\\n",
    "\n",
    "> **Raw Image**: TOF_3895.nii.gz\\\n",
    "> **Base Segmentation**: seg_TOF_3895.nii.gz or TOF_3895_seg.nii.gz, ensuring that the segmentation file name contains the \"TOF_3895\"."
   ]
  },
  {
   "cell_type": "markdown",
   "metadata": {},
   "source": [
    "To illustrate the usage of this module, we will download a public MRA dataset:"
   ]
  },
  {
   "cell_type": "code",
   "execution_count": 1,
   "metadata": {},
   "outputs": [
    {
     "name": "stdout",
     "output_type": "stream",
     "text": [
      "100%|█████████████████████████████████████| 164M/164M [00:01<00:00, 116Mbytes/s]\n",
      "100%|█████████████████████████████████████| 327M/327M [00:01<00:00, 172Mbytes/s]\n"
     ]
    }
   ],
   "source": [
    "# Download the data\n",
    "!mkdir -p ./../data/img/\n",
    "!mkdir -p ./../data/seg/\n",
    "!osf -p nr6gc fetch /osfstorage/twoEchoTOF/withSkull/GRE_3D_400um_TR20_FA18_TE7p5_14_sli52_FCY_GMP_BW200_32_biasCor.nii ./../data/img/GRE_400um.nii\n",
    "!osf -p nr6gc fetch /osfstorage/twoEchoTOF/seg/seg_GRE_3D_400um_TR20_FA18_TE7p5_14_sli52_FCY_GMP_BW200_32_biasCor_H75_L55_C10.nii ./../data/seg/seg_GRE_400um.nii"
   ]
  },
  {
   "cell_type": "markdown",
   "metadata": {},
   "source": [
    "Similar to *predict* module, there are four distinct settings for data preprocessing:\n",
    " - Set prep_mode to 1 for N4 bias field correction only;\n",
    " - Set prep_mode to 2 for denoising only;\n",
    " - Set prep_mode to 3 for both.;\n",
    " - Set prep_mode to 0 for no preprocessing.\n",
    "\n",
    "If preprocessing is required, please explicitly pass a path to store the preprocessed images to **--ps_path** argument -- for more details, please refer to *Module_Prediction* notebook.\n",
    "Below we illustrate the usage of this module with a sample MRA image and without preprocessing."
   ]
  },
  {
   "cell_type": "code",
   "execution_count": 1,
   "metadata": {},
   "outputs": [
    {
     "name": "stdout",
     "output_type": "stream",
     "text": [
      "Training session will start shortly..\n",
      "Parameters Info:\n",
      "*************************************************************\n",
      "\n",
      "Input image path: ./../data/img/, Segmentation path: ./../data/seg/, Prep_mode: 4\n",
      "\n",
      "Epoch number: 10, Learning rate: 0.001 \n",
      "\n",
      "Aborting the preprocessing procedure!\n",
      "\n",
      "\n",
      "In this test, the batch size is 24\n",
      "\n",
      "Epoch: [1/10], Loss:  0.9871, Current learning rate:  0.00100000                \n",
      "Epoch: [2/10], Loss:  0.9713, Current learning rate:  0.00100000                \n",
      "Epoch: [3/10], Loss:  0.9784, Current learning rate:  0.00100000                \n",
      "Epoch: [4/10], Loss:  0.9789, Current learning rate:  0.00100000                \n",
      "Epoch: [5/10], Loss:  0.9659, Current learning rate:  0.00100000                \n",
      "Epoch: [6/10], Loss:  0.9690, Current learning rate:  0.00100000                \n",
      "Epoch: [7/10], Loss:  0.9629, Current learning rate:  0.00100000                \n",
      "Epoch: [8/10], Loss:  0.9722, Current learning rate:  0.00100000                \n",
      "Epoch: [9/10], Loss:  0.9665, Current learning rate:  0.00100000                \n",
      "Epoch: [10/10], Loss:  0.9706, Current learning rate:  0.00095000               \n",
      "100%|███████████████████████████████████████████| 10/10 [04:29<00:00, 26.92s/it]\n",
      "Training finished! Please wait for the model to be saved!\n",
      "\n",
      "Model successfully saved! The location of the saved model is: ./../saved_models/test_train_model\n",
      "\n"
     ]
    }
   ],
   "source": [
    "!python ./../train.py --ds_path ./../data/img/ --lb_path ./../data/seg/ --prep_mode 4 --ep 10 --lr 1e-3 --outmo ./../saved_models/test_train_model"
   ]
  },
  {
   "cell_type": "markdown",
   "metadata": {},
   "source": [
    "Please be note that in a real case scenario, we would wish for a loss value below 0.4000 to generate reasonable segmentations. However, for the sake of speed, in this tutorial notebook we set the number of training epochs to 10 to demonstrate the usage. In addition, although we illustrate the usage of this module with a single image, we recommend that you train your models with a larger dataset."
   ]
  }
 ],
 "metadata": {
  "kernelspec": {
   "display_name": "Python 3",
   "language": "python",
   "name": "python3"
  },
  "language_info": {
   "codemirror_mode": {
    "name": "ipython",
    "version": 3
   },
   "file_extension": ".py",
   "mimetype": "text/x-python",
   "name": "python",
   "nbconvert_exporter": "python",
   "pygments_lexer": "ipython3",
   "version": "3.9.15"
  },
  "orig_nbformat": 4
 },
 "nbformat": 4,
 "nbformat_minor": 2
}
