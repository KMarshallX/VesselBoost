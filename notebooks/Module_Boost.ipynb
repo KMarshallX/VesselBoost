{
 "cells": [
  {
   "cell_type": "markdown",
   "metadata": {},
   "source": [
    "# **VesselBoost Toolbox**\n",
    "## Module 3 - Boost\n",
    "VesselBoost provides **Boost**, a module that allows you to train a segmentation model from scratch using imperfect segmentation from a single or more data instances. \\\n",
    "\n",
    "To use this module, first ensure that the raw images and segmentation files are stored separately (e.g., you can store your images in path_to_directory/data/image/ and the corresponding segmentations in path_to_directory/data/label/).\\\n",
    "Additionally, please make sure that the segmentation file name is the same as the raw image file name or that it matches with the following format:\\\n",
    "\n",
    "> **Raw Image**: TOF_3895.nii.gz\\\n",
    "> **Base Segmentation**: seg_TOF_3895.nii.gz or TOF_3895_seg.nii.gz, ensuring that the segmentation file name contains the \"TOF_3895\"."
   ]
  },
  {
   "cell_type": "markdown",
   "metadata": {},
   "source": [
    "To illustrate the usage of this module, we will download a public MRA dataset:"
   ]
  },
  {
   "cell_type": "code",
   "execution_count": 1,
   "metadata": {},
   "outputs": [
    {
     "name": "stdout",
     "output_type": "stream",
     "text": [
      "100%|████████████████████████████████████| 164M/164M [00:04<00:00, 34.6Mbytes/s]\n",
      "100%|████████████████████████████████████| 327M/327M [00:09<00:00, 35.2Mbytes/s]\n"
     ]
    }
   ],
   "source": [
    "# Download the data\n",
    "!mkdir -p ./../data/img/\n",
    "!mkdir -p ./../data/seg/\n",
    "!osf -p nr6gc fetch /osfstorage/twoEchoTOF/withSkull/GRE_3D_400um_TR20_FA18_TE7p5_14_sli52_FCY_GMP_BW200_32_biasCor.nii ./../data/img/GRE_400um.nii\n",
    "!osf -p nr6gc fetch /osfstorage/twoEchoTOF/seg/seg_GRE_3D_400um_TR20_FA18_TE7p5_14_sli52_FCY_GMP_BW200_32_biasCor_H75_L55_C10.nii ./../data/seg/seg_GRE_400um.nii"
   ]
  },
  {
   "cell_type": "markdown",
   "metadata": {},
   "source": [
    "Similar to *predict* module, there are four distinct settings for data preprocessing:\n",
    " - Set prep_mode to 1 for N4 bias field correction only;\n",
    " - Set prep_mode to 2 for denoising only;\n",
    " - Set prep_mode to 3 for both.;\n",
    " - Set prep_mode to 0 for no preprocessing.\n",
    "\n",
    "If preprocessing is required, please explicitly pass a path to store the preprocessed images to **--ps_path** argument -- for more details, please refer to *Module_Prediction* notebook.\n",
    "Below we illustrate the usage of this module with a sample MRA image and without preprocessing."
   ]
  },
  {
   "cell_type": "code",
   "execution_count": 2,
   "metadata": {},
   "outputs": [
    {
     "name": "stdout",
     "output_type": "stream",
     "text": [
      "Boosting session will start shortly..\n",
      "Parameters Info:\n",
      "*************************************************************\n",
      "\n",
      "Input image path: ./../data/img/, Segmentation path: ./../data/seg/, Prep_mode: 4\n",
      "\n",
      "Epoch number: 10, Learning rate: 0.001 \n",
      "\n",
      "Aborting the preprocessing procedure!\n",
      "\n",
      "\n",
      "In this test, the batch size is 24\n",
      "\n",
      "Epoch: [1/10], Loss:  0.9834, Current learning rate:  0.00100000                \n",
      "Epoch: [2/10], Loss:  0.9625, Current learning rate:  0.00100000                \n",
      "Epoch: [3/10], Loss:  0.9751, Current learning rate:  0.00100000                \n",
      "Epoch: [4/10], Loss:  0.9665, Current learning rate:  0.00100000                \n",
      "Epoch: [5/10], Loss:  0.9607, Current learning rate:  0.00100000                \n",
      "Epoch: [6/10], Loss:  0.9742, Current learning rate:  0.00100000                \n",
      "Epoch: [7/10], Loss:  0.9743, Current learning rate:  0.00100000                \n",
      "Epoch: [8/10], Loss:  0.9710, Current learning rate:  0.00095000                \n",
      "Epoch: [9/10], Loss:  0.9708, Current learning rate:  0.00095000                \n",
      " 90%|███████████████████████████████████████▌    | 9/10 [04:04<00:28, 28.39s/it]"
     ]
    }
   ],
   "source": [
    "!mkdir -p ./../saved_imgs/boost_generated_label/\n",
    "!python ./../boost.py --ds_path ./../data/img/ --lb_path ./../data/seg/ --out_path ./../saved_imgs/boost_generated_label/ --outmo ./../saved_models/test_boost_model --prep_mode 4 --ep 10 --lr 1e-3 "
   ]
  },
  {
   "cell_type": "markdown",
   "metadata": {},
   "source": [
    "Please be note that in a real case scenario, we would wish for a loss value below 0.4000 to generate reasonable segmentations. However, for the sake of speed, in this tutorial notebook we set the number of training epochs to 10 to demonstrate the usage."
   ]
  }
 ],
 "metadata": {
  "kernelspec": {
   "display_name": "Python 3",
   "language": "python",
   "name": "python3"
  },
  "language_info": {
   "codemirror_mode": {
    "name": "ipython",
    "version": 3
   },
   "file_extension": ".py",
   "mimetype": "text/x-python",
   "name": "python",
   "nbconvert_exporter": "python",
   "pygments_lexer": "ipython3",
   "version": "3.9.15"
  },
  "orig_nbformat": 4
 },
 "nbformat": 4,
 "nbformat_minor": 2
}
