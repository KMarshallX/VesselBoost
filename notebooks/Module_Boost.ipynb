{
 "cells": [
  {
   "cell_type": "markdown",
   "metadata": {},
   "source": [
    "# **Vessel Boost Toolbox**\n",
    "## Module - boost.py\n",
    "Vessel Boost toolbox provides a 'boosting' module which allows you to train a segmentation model from scratch using imperfect segmentation from a single or more data images. \\\n",
    "\\\n",
    "If you are working outside of a container, you can store you data under data folder as the instruction below.\\\n",
    "If you are working inside a container, you can mount your data folder to _./data/image/_ and _./data/label/_ \\\n",
    "\\\n",
    "For using this boosting module, you should store your base data images and the segmentations in two folders, e.g. store your images in _./data/image/_ and store the corresponding segmentations in _./data/label/_\\\n",
    "Also please make sure that the names of your base segmentations contain the **FULL NAME** of the corresponding image files. e.g.:\\\n",
    "\n",
    "> **Raw Image**: TOF_3895.nii.gz\\\n",
    "> **Base Segmentation**: seg_TOF_3895.nii.gz or TOF_3895_seg.nii.gz, just make sure it contains the \"TOF_3895\"."
   ]
  },
  {
   "cell_type": "markdown",
   "metadata": {},
   "source": [
    "For this example notebook, we also provide a public MR image data and its segmentation to demonstrate the usage:"
   ]
  },
  {
   "cell_type": "code",
   "execution_count": 1,
   "metadata": {},
   "outputs": [
    {
     "name": "stdout",
     "output_type": "stream",
     "text": [
      "100%|█████████████████████████████████████| 164M/164M [00:01<00:00, 105Mbytes/s]\n",
      "100%|█████████████████████████████████████| 327M/327M [00:01<00:00, 188Mbytes/s]\n"
     ]
    }
   ],
   "source": [
    "# Download the data\n",
    "!osf -p nr6gc fetch /osfstorage/twoEchoTOF/withSkull/GRE_3D_400um_TR20_FA18_TE7p5_14_sli52_FCY_GMP_BW200_32_biasCor.nii ./../../data/img/GRE_400um.nii\n",
    "!osf -p nr6gc fetch /osfstorage/twoEchoTOF/seg/seg_GRE_3D_400um_TR20_FA18_TE7p5_14_sli52_FCY_GMP_BW200_32_biasCor_H75_L55_C10.nii ./../../data/seg/seg_GRE_400um.nii"
   ]
  },
  {
   "cell_type": "markdown",
   "metadata": {},
   "source": [
    "### Without preprocessing \n",
    "If you set argument *-prep_mode* to 4, then no preprocessing (N4 bias field correction, denoising) will happen, and you don't need to set a path specificly to store the preprocessed images:"
   ]
  },
  {
   "cell_type": "code",
   "execution_count": 3,
   "metadata": {},
   "outputs": [
    {
     "name": "stdout",
     "output_type": "stream",
     "text": [
      "./../../saved_imgs/boost_generated_label/ does not exist.\n",
      "./../../saved_imgs/boost_generated_label/ has been created!\n",
      "Boosting session will start shortly..\n",
      "Parameters Info:\n",
      "*************************************************************\n",
      "\n",
      "Input image path: ./../../data/img/, Segmentation path: ./../../data/seg/, Prep_mode: 4\n",
      "\n",
      "Epoch number: 10, Learning rate: 0.001 \n",
      "\n",
      "Aborting the preprocessing procedure!\n",
      "\n",
      "\n",
      "In this test, the batch size is 24\n",
      "\n",
      "Epoch: [1/10], Loss:  0.9855, Current learning rate:  0.00100000                \n",
      "Epoch: [2/10], Loss:  0.9771, Current learning rate:  0.00100000                \n",
      "Epoch: [3/10], Loss:  0.9841, Current learning rate:  0.00100000                \n",
      "Epoch: [4/10], Loss:  0.9823, Current learning rate:  0.00100000                \n",
      "Epoch: [5/10], Loss:  0.9711, Current learning rate:  0.00100000                \n",
      "Epoch: [6/10], Loss:  0.9612, Current learning rate:  0.00100000                \n",
      "Epoch: [7/10], Loss:  0.9676, Current learning rate:  0.00100000                \n",
      "Epoch: [8/10], Loss:  0.9662, Current learning rate:  0.00100000                \n",
      "Epoch: [9/10], Loss:  0.9773, Current learning rate:  0.00095000                \n",
      "Epoch: [10/10], Loss:  0.9703, Current learning rate:  0.00095000               \n",
      "100%|███████████████████████████████████████████| 10/10 [00:25<00:00,  2.59s/it]\n",
      "Training finished! Please wait for the model to be saved!\n",
      "\n",
      "Model successfully saved! The location of the saved model is: ./../saved_models/test_boost_model\n",
      "\n",
      "Running with GPU\n",
      "Prediction procedure starts!\n",
      "100%|█████████████████████████████████████████████| 6/6 [00:34<00:00,  5.76s/it]\n",
      "Prediction procedure ends! Please wait for the post processing!\n",
      "Output processed GRE_400um.nii is successfully saved!\n",
      "\n",
      "Output MIP image GRE_400um.nii is successfully saved!\n",
      "\n",
      "Prediction and thresholding procedure end!\n",
      "\n",
      "Boosting session has been completed! Resultant segmentation has been saved to ./../../saved_imgs/boost_generated_label/.\n"
     ]
    }
   ],
   "source": [
    "!python ./../boost.py --ds_path ./../../data/img/ --lb_path ./../../data/seg/ --out_path ./../../saved_imgs/boost_generated_label/ --outmo ./../saved_models/test_boost_model --prep_mode 4 --ep 10 --lr 1e-3 "
   ]
  },
  {
   "cell_type": "markdown",
   "metadata": {},
   "source": [
    "### With preprocessing\n",
    "If you set prep_mode to 1,2 or 3, which means (1) N4 bias field correction, (2)denosing, or (3) both N4 biasfield correction and denoising will happen, then you have to set a path to store the preprocessed images e.g. *-ps_path ./data/preprocessed/*"
   ]
  },
  {
   "cell_type": "code",
   "execution_count": 4,
   "metadata": {},
   "outputs": [
    {
     "name": "stdout",
     "output_type": "stream",
     "text": [
      "./../../saved_imgs/boost_generated_label_prep/ does not exist.\n",
      "./../../saved_imgs/boost_generated_label_prep/ has been created!\n",
      "Boosting session will start shortly..\n",
      "Parameters Info:\n",
      "*************************************************************\n",
      "\n",
      "Input image path: ./../../data/img/, Segmentation path: ./../../data/seg/, Prep_mode: 1\n",
      "\n",
      "Epoch number: 10, Learning rate: 0.001 \n",
      "\n",
      "The preprocessing procedure is starting!\n",
      "\n",
      "100%|█████████████████████████████████████████████| 1/1 [01:33<00:00, 93.00s/it]\n",
      "All processed images are successfully saved!\n",
      "\n",
      "In this test, the batch size is 24\n",
      "\n",
      "Epoch: [1/10], Loss:  0.9877, Current learning rate:  0.00100000                \n",
      "Epoch: [2/10], Loss:  0.9756, Current learning rate:  0.00100000                \n",
      "Epoch: [3/10], Loss:  0.9766, Current learning rate:  0.00100000                \n",
      "Epoch: [4/10], Loss:  0.9744, Current learning rate:  0.00100000                \n",
      "Epoch: [5/10], Loss:  0.9696, Current learning rate:  0.00100000                \n",
      "Epoch: [6/10], Loss:  0.9666, Current learning rate:  0.00100000                \n",
      "Epoch: [7/10], Loss:  0.9775, Current learning rate:  0.00100000                \n",
      "Epoch: [8/10], Loss:  0.9610, Current learning rate:  0.00100000                \n",
      "Epoch: [9/10], Loss:  0.9727, Current learning rate:  0.00100000                \n",
      "Epoch: [10/10], Loss:  0.9560, Current learning rate:  0.00100000               \n",
      "100%|███████████████████████████████████████████| 10/10 [00:20<00:00,  2.02s/it]\n",
      "Training finished! Please wait for the model to be saved!\n",
      "\n",
      "Model successfully saved! The location of the saved model is: ./../saved_models/test_boost_model_prep\n",
      "\n",
      "Running with GPU\n",
      "Prediction procedure starts!\n",
      "100%|█████████████████████████████████████████████| 6/6 [00:33<00:00,  5.61s/it]\n",
      "Prediction procedure ends! Please wait for the post processing!\n",
      "Output processed GRE_400um.nii is successfully saved!\n",
      "\n",
      "Output MIP image GRE_400um.nii is successfully saved!\n",
      "\n",
      "Prediction and thresholding procedure end!\n",
      "\n",
      "Boosting session has been completed! Resultant segmentation has been saved to ./../../saved_imgs/boost_generated_label_prep/.\n"
     ]
    }
   ],
   "source": [
    "!python ./../boost.py --ds_path ./../../data/img/ --lb_path ./../../data/seg/ --ps_path ./../../data/preprocessed/ --out_path ./../../saved_imgs/boost_generated_label_prep/ --outmo ./../saved_models/test_boost_model_prep --prep_mode 1 --ep 10 --lr 1e-3 "
   ]
  },
  {
   "cell_type": "markdown",
   "metadata": {},
   "source": [
    "### Please be noted:\n",
    "In normal cases, the loss value will drop below 0.4000 as we're using Tversky loss metric. However, in this tutorial notebook, we set the training epoch to an extremely low number just to demonstrate the usage."
   ]
  }
 ],
 "metadata": {
  "kernelspec": {
   "display_name": "Python 3",
   "language": "python",
   "name": "python3"
  },
  "language_info": {
   "codemirror_mode": {
    "name": "ipython",
    "version": 3
   },
   "file_extension": ".py",
   "mimetype": "text/x-python",
   "name": "python",
   "nbconvert_exporter": "python",
   "pygments_lexer": "ipython3",
   "version": "3.11.4"
  },
  "orig_nbformat": 4
 },
 "nbformat": 4,
 "nbformat_minor": 2
}
