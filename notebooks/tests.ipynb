{
 "cells": [
  {
   "cell_type": "markdown",
   "id": "3271cab5",
   "metadata": {},
   "source": [
    "# Vessel boost toolbox"
   ]
  },
  {
   "cell_type": "markdown",
   "id": "a1323165",
   "metadata": {},
   "source": [
    "## 1. Initinal training"
   ]
  },
  {
   "cell_type": "markdown",
   "id": "93cb4ec8",
   "metadata": {},
   "source": [
    "If you are working outside of a container, you can store you data under *data* folder as the instruction below. If you are working inside a container, you can mount your data folder to *./data/train/* and  *./data/label/*.\n",
    "\n",
    "Please make sure that the name of a segmentation image file should contain the FULL NAME of its corresponding MRI image. \n",
    "e.g.:\n",
    "\n",
    "**Raw image:** TOF_3895.nii.gz\n",
    "\n",
    "**Segmentation image:** seg_TOF_3895.nii.gz or TOF_3895_seg.nii.gz, just make sure it contains the \"TOF_3895\"."
   ]
  },
  {
   "cell_type": "code",
   "execution_count": 5,
   "id": "6f0a2fca",
   "metadata": {
    "scrolled": true
   },
   "outputs": [
    {
     "name": "stdout",
     "output_type": "stream",
     "text": [
      "Training session will start shortly..\n",
      "Aborting the preprocessing procedure!\n",
      "\n",
      "  0%|                                                     | 0/2 [00:00<?, ?it/s]Current training image: ./../data/train/sub017.nii.gz, current training label: ./../data/label/sub017.nii\n",
      "\n",
      "                                                                                \u001b[A\n",
      "\u001b[AEpoch: [1/10], Loss:  0.9698, Current learning rate:  0.00100000             \n",
      "  0%|                                                     | 0/2 [00:44<?, ?it/s]\n",
      "  0%|                                                    | 0/10 [00:43<?, ?it/s]\u001b[A\n",
      "                                                                                \u001b[A\n",
      "\u001b[AEpoch: [2/10], Loss:  0.9400, Current learning rate:  0.00100000             \n",
      "  0%|                                                     | 0/2 [01:26<?, ?it/s]\n",
      " 10%|████▍                                       | 1/10 [01:25<06:32, 43.60s/it]\u001b[A\n",
      "                                                                                \u001b[A\n",
      "\u001b[AEpoch: [3/10], Loss:  0.7602, Current learning rate:  0.00100000             \n",
      "  0%|                                                     | 0/2 [02:12<?, ?it/s]\n",
      " 20%|████████▊                                   | 2/10 [02:11<05:39, 42.49s/it]\u001b[A\n",
      "                                                                                \u001b[A\n",
      "\u001b[AEpoch: [4/10], Loss:  0.9142, Current learning rate:  0.00100000             \n",
      "  0%|                                                     | 0/2 [02:56<?, ?it/s]\n",
      " 30%|█████████████▏                              | 3/10 [02:55<05:09, 44.15s/it]\u001b[A\n",
      "                                                                                \u001b[A\n",
      "\u001b[AEpoch: [5/10], Loss:  0.9089, Current learning rate:  0.00100000             \n",
      "  0%|                                                     | 0/2 [03:39<?, ?it/s]\n",
      " 40%|█████████████████▌                          | 4/10 [03:38<04:24, 44.13s/it]\u001b[A\n",
      "                                                                                \u001b[A\n",
      "\u001b[AEpoch: [6/10], Loss:  0.9267, Current learning rate:  0.00095000             \n",
      "  0%|                                                     | 0/2 [04:25<?, ?it/s]\n",
      " 50%|██████████████████████                      | 5/10 [04:24<03:39, 43.81s/it]\u001b[A\n",
      "                                                                                \u001b[A\n",
      "\u001b[AEpoch: [7/10], Loss:  0.8785, Current learning rate:  0.00095000             \n",
      "  0%|                                                     | 0/2 [05:10<?, ?it/s]\n",
      " 60%|██████████████████████████▍                 | 6/10 [05:09<02:57, 44.45s/it]\u001b[A\n",
      "                                                                                \u001b[A\n",
      "\u001b[AEpoch: [8/10], Loss:  0.9214, Current learning rate:  0.00095000             \n",
      "  0%|                                                     | 0/2 [05:53<?, ?it/s]\n",
      " 70%|██████████████████████████████▊             | 7/10 [05:52<02:13, 44.55s/it]\u001b[A\n",
      "                                                                                \u001b[A\n",
      "\u001b[AEpoch: [9/10], Loss:  0.8703, Current learning rate:  0.00090250             \n",
      "  0%|                                                     | 0/2 [06:37<?, ?it/s]\n",
      " 80%|███████████████████████████████████▏        | 8/10 [06:36<01:28, 44.09s/it]\u001b[A\n",
      "                                                                                \u001b[A\n",
      "\u001b[AEpoch: [10/10], Loss:  0.9477, Current learning rate:  0.00090250            \n",
      "  0%|                                                     | 0/2 [07:20<?, ?it/s]\n",
      " 90%|███████████████████████████████████████▌    | 9/10 [07:19<00:43, 44.00s/it]\u001b[A\n",
      "100%|███████████████████████████████████████████| 10/10 [07:19<00:00, 43.91s/it]\u001b[A\n",
      "File number [1/2]                                                               \n",
      " 50%|██████████████████████                      | 1/2 [07:20<07:20, 440.02s/it]Current training image: ./../data/train/sub007.nii.gz, current training label: ./../data/label/sub007.nii\n",
      "\n",
      "                                                                                \u001b[A\n",
      "\u001b[AEpoch: [1/10], Loss:  0.9265, Current learning rate:  0.00090250             \n",
      " 50%|██████████████████████                      | 1/2 [07:57<07:20, 440.02s/it]\n",
      "  0%|                                                    | 0/10 [00:36<?, ?it/s]\u001b[A\n",
      "                                                                                \u001b[A\n",
      "\u001b[AEpoch: [2/10], Loss:  0.9235, Current learning rate:  0.00085737             \n",
      " 50%|██████████████████████                      | 1/2 [08:41<07:20, 440.02s/it]\n",
      " 10%|████▍                                       | 1/10 [01:20<05:28, 36.53s/it]\u001b[A\n",
      "                                                                                \u001b[A\n",
      "\u001b[AEpoch: [3/10], Loss:  0.9325, Current learning rate:  0.00085737             \n",
      " 50%|██████████████████████                      | 1/2 [09:21<07:20, 440.02s/it]\n",
      " 20%|████████▊                                   | 2/10 [02:00<05:26, 40.81s/it]\u001b[A\n",
      "                                                                                \u001b[A\n",
      "\u001b[AEpoch: [4/10], Loss:  0.9216, Current learning rate:  0.00085737             \n",
      " 50%|██████████████████████                      | 1/2 [10:05<07:20, 440.02s/it]\n",
      " 30%|█████████████▏                              | 3/10 [02:44<04:42, 40.32s/it]\u001b[A\n",
      "                                                                                \u001b[A\n",
      "\u001b[AEpoch: [5/10], Loss:  0.9535, Current learning rate:  0.00081451             \n",
      " 50%|██████████████████████                      | 1/2 [10:38<07:20, 440.02s/it]\n",
      " 40%|█████████████████▌                          | 4/10 [03:17<04:10, 41.80s/it]\u001b[A\n",
      "                                                                                \u001b[A\n",
      "\u001b[AEpoch: [6/10], Loss:  0.9274, Current learning rate:  0.00081451             \n",
      " 50%|██████████████████████                      | 1/2 [11:23<07:20, 440.02s/it]\n",
      " 50%|██████████████████████                      | 5/10 [04:02<03:13, 38.71s/it]\u001b[A\n",
      "                                                                                \u001b[A\n",
      "\u001b[AEpoch: [7/10], Loss:  0.8990, Current learning rate:  0.00081451             \n",
      " 50%|██████████████████████                      | 1/2 [12:07<07:20, 440.02s/it]\n",
      " 60%|██████████████████████████▍                 | 6/10 [04:47<02:43, 40.83s/it]\u001b[A\n",
      "                                                                                \u001b[A\n",
      "\u001b[AEpoch: [8/10], Loss:  0.9371, Current learning rate:  0.00077378             \n",
      " 50%|██████████████████████                      | 1/2 [12:48<07:20, 440.02s/it]\n",
      " 70%|██████████████████████████████▊             | 7/10 [05:27<02:06, 42.09s/it]\u001b[A\n",
      "                                                                                \u001b[A\n",
      "\u001b[AEpoch: [9/10], Loss:  0.9343, Current learning rate:  0.00077378             \n",
      " 50%|██████████████████████                      | 1/2 [13:24<07:20, 440.02s/it]\n",
      " 80%|███████████████████████████████████▏        | 8/10 [06:03<01:23, 41.62s/it]\u001b[A\n",
      "                                                                                \u001b[A\n",
      "\u001b[AEpoch: [10/10], Loss:  0.9294, Current learning rate:  0.00077378            \n",
      " 50%|██████████████████████                      | 1/2 [14:04<07:20, 440.02s/it]\n",
      " 90%|███████████████████████████████████████▌    | 9/10 [06:43<00:39, 39.86s/it]\u001b[A\n",
      "100%|███████████████████████████████████████████| 10/10 [06:43<00:00, 40.34s/it]\u001b[A\n",
      "File number [2/2]                                                               \n",
      "100%|████████████████████████████████████████████| 2/2 [14:04<00:00, 422.19s/it]\n",
      "Training finished! Please wait for the model to be saved!\n",
      "Model successfully saved! The location of the saved model is: ./../models-tests\n"
     ]
    }
   ],
   "source": [
    "# Set the necessary parameters\n",
    "# If you set prep_mode to 4, which means no preprocessing will happen, then you don't have to set a path to store the preprocessed images\n",
    "!python ./../train.py --inimg ./../data/train/ --inlab ./../data/label/ --prep_mode 4 --ep 10 --lr 1e-3 --outmo ./../models-tests\n"
   ]
  },
  {
   "cell_type": "code",
   "execution_count": 1,
   "id": "6e6020ae",
   "metadata": {},
   "outputs": [
    {
     "name": "stdout",
     "output_type": "stream",
     "text": [
      "Training session will start shortly..\n",
      "The preprocessing procedure is starting!\n",
      "\n",
      "100%|████████████████████████████████████████████| 2/2 [03:46<00:00, 113.20s/it]\n",
      "All processed images are successfully saved!\n",
      "  0%|                                                     | 0/2 [00:00<?, ?it/s]Current training image: ./../data/preprocessed_data/sub017.nii.gz, current training label: ./../data/label/sub017.nii\n",
      "\n",
      "                                                                                \u001b[A\n",
      "\u001b[AEpoch: [1/10], Loss:  0.9465, Current learning rate:  0.00100000             \n",
      "  0%|                                                     | 0/2 [00:44<?, ?it/s]\n",
      "  0%|                                                    | 0/10 [00:43<?, ?it/s]\u001b[A\n",
      "                                                                                \u001b[A\n",
      "\u001b[AEpoch: [2/10], Loss:  0.9352, Current learning rate:  0.00100000             \n",
      "  0%|                                                     | 0/2 [01:22<?, ?it/s]\n",
      " 10%|████▍                                       | 1/10 [01:21<06:27, 43.06s/it]\u001b[A\n",
      "                                                                                \u001b[A\n",
      "\u001b[AEpoch: [3/10], Loss:  0.9133, Current learning rate:  0.00100000             \n",
      "  0%|                                                     | 0/2 [02:04<?, ?it/s]\n",
      " 20%|████████▊                                   | 2/10 [02:03<05:20, 40.07s/it]\u001b[A\n",
      "                                                                                \u001b[A\n",
      "\u001b[AEpoch: [4/10], Loss:  0.8157, Current learning rate:  0.00100000             \n",
      "  0%|                                                     | 0/2 [02:48<?, ?it/s]\n",
      " 30%|█████████████▏                              | 3/10 [02:47<04:49, 41.31s/it]\u001b[A\n",
      "                                                                                \u001b[A\n",
      "\u001b[AEpoch: [5/10], Loss:  0.8695, Current learning rate:  0.00100000             \n",
      "  0%|                                                     | 0/2 [03:35<?, ?it/s]\n",
      " 40%|█████████████████▌                          | 4/10 [03:34<04:13, 42.19s/it]\u001b[A\n",
      "                                                                                \u001b[A\n",
      "\u001b[AEpoch: [6/10], Loss:  0.8845, Current learning rate:  0.00100000             \n",
      "  0%|                                                     | 0/2 [04:20<?, ?it/s]\n",
      " 50%|██████████████████████                      | 5/10 [04:19<03:39, 43.97s/it]\u001b[A\n",
      "                                                                                \u001b[A\n",
      "\u001b[AEpoch: [7/10], Loss:  0.9048, Current learning rate:  0.00095000             \n",
      "  0%|                                                     | 0/2 [05:08<?, ?it/s]\n",
      " 60%|██████████████████████████▍                 | 6/10 [05:07<02:57, 44.43s/it]\u001b[A\n",
      "                                                                                \u001b[A\n",
      "\u001b[AEpoch: [8/10], Loss:  0.8726, Current learning rate:  0.00095000             \n",
      "  0%|                                                     | 0/2 [05:53<?, ?it/s]\n",
      " 70%|██████████████████████████████▊             | 7/10 [05:52<02:16, 45.48s/it]\u001b[A\n",
      "                                                                                \u001b[A\n",
      "\u001b[AEpoch: [9/10], Loss:  0.9730, Current learning rate:  0.00095000             \n",
      "  0%|                                                     | 0/2 [06:37<?, ?it/s]\n",
      " 80%|███████████████████████████████████▏        | 8/10 [06:36<01:30, 45.24s/it]\u001b[A\n",
      "                                                                                \u001b[A\n",
      "\u001b[AEpoch: [10/10], Loss:  0.9453, Current learning rate:  0.00090250            \n",
      "  0%|                                                     | 0/2 [07:22<?, ?it/s]\n",
      " 90%|███████████████████████████████████████▌    | 9/10 [07:21<00:45, 45.03s/it]\u001b[A\n",
      "100%|███████████████████████████████████████████| 10/10 [07:21<00:00, 44.15s/it]\u001b[A\n",
      "File number [1/2]                                                               \n",
      " 50%|██████████████████████                      | 1/2 [07:22<07:22, 442.55s/it]Current training image: ./../data/preprocessed_data/sub007.nii.gz, current training label: ./../data/label/sub007.nii\n",
      "\n",
      "  0%|                                                    | 0/10 [00:00<?, ?it/s]\u001b[A\n",
      "Epoch: [1/10], Loss:  0.9296, Current learning rate:  0.00090250                \n",
      "\n",
      " 50%|██████████████████████                      | 1/2 [08:09<07:22, 442.55s/it]\u001b[A\n",
      " 10%|████▍                                       | 1/10 [00:45<06:52, 45.86s/it]\u001b[A\n",
      "Epoch: [2/10], Loss:  0.9595, Current learning rate:  0.00090250                \n",
      "\n",
      " 50%|██████████████████████                      | 1/2 [08:55<07:22, 442.55s/it]\u001b[A\n",
      " 20%|████████▊                                   | 2/10 [01:31<06:06, 45.77s/it]\u001b[A\n",
      "Epoch: [3/10], Loss:  0.9339, Current learning rate:  0.00085737                \n",
      "\n",
      " 50%|██████████████████████                      | 1/2 [09:40<07:22, 442.55s/it]\u001b[A\n",
      " 30%|█████████████▏                              | 3/10 [02:16<05:19, 45.59s/it]\u001b[A\n",
      "Epoch: [4/10], Loss:  0.9322, Current learning rate:  0.00085737                \n",
      "\n",
      " 50%|██████████████████████                      | 1/2 [10:27<07:22, 442.55s/it]\u001b[A\n",
      " 40%|█████████████████▌                          | 4/10 [03:03<04:36, 46.06s/it]\u001b[A\n",
      "Epoch: [5/10], Loss:  0.8902, Current learning rate:  0.00085737                \n",
      "\n",
      " 50%|██████████████████████                      | 1/2 [11:12<07:22, 442.55s/it]\u001b[A\n",
      " 50%|██████████████████████                      | 5/10 [03:48<03:48, 45.68s/it]\u001b[A\n",
      "Epoch: [6/10], Loss:  0.8748, Current learning rate:  0.00081451                \n",
      "\n",
      " 50%|██████████████████████                      | 1/2 [11:56<07:22, 442.55s/it]\u001b[A\n",
      " 60%|██████████████████████████▍                 | 6/10 [04:32<03:00, 45.15s/it]\u001b[A\n",
      "Epoch: [7/10], Loss:  0.9294, Current learning rate:  0.00081451                \n",
      "\n",
      " 50%|██████████████████████                      | 1/2 [12:35<07:22, 442.55s/it]\u001b[A\n",
      " 70%|██████████████████████████████▊             | 7/10 [05:11<02:09, 43.05s/it]\u001b[A\n",
      "Epoch: [8/10], Loss:  0.9286, Current learning rate:  0.00081451                \n",
      "\n",
      " 50%|██████████████████████                      | 1/2 [13:08<07:22, 442.55s/it]\u001b[A\n",
      " 80%|███████████████████████████████████▏        | 8/10 [05:45<01:20, 40.02s/it]\u001b[A\n",
      "Epoch: [9/10], Loss:  0.8962, Current learning rate:  0.00077378                \n",
      "\n",
      " 50%|██████████████████████                      | 1/2 [13:39<07:22, 442.55s/it]\u001b[A\n",
      " 90%|███████████████████████████████████████▌    | 9/10 [06:16<00:37, 37.25s/it]\u001b[A\n",
      "Epoch: [10/10], Loss:  0.9196, Current learning rate:  0.00077378               \n",
      "\n",
      " 50%|██████████████████████                      | 1/2 [14:16<07:22, 442.55s/it]\u001b[A\n",
      "100%|███████████████████████████████████████████| 10/10 [06:52<00:00, 41.28s/it]\u001b[A\n",
      "File number [2/2]                                                               \n",
      "100%|████████████████████████████████████████████| 2/2 [14:16<00:00, 428.24s/it]\n",
      "Training finished! Please wait for the model to be saved!\n",
      "Model successfully saved! The location of the saved model is: ./../models-tests\n"
     ]
    }
   ],
   "source": [
    "# If you set prep_mode to 1,2 or 3, which means both/one of denosing and N4 bias field correction will happen, then you have to set a path to store the preprocessed images\n",
    "!python ./../train.py --inimg ./../data/train/ --inlab ./../data/label/ --prep_mode 1 --ps_path ./../data/preprocessed_data/ --ep 10 --lr 1e-3 --outmo ./../models-tests"
   ]
  },
  {
   "cell_type": "markdown",
   "id": "4c82ea5a",
   "metadata": {},
   "source": [
    "## 2. Inference"
   ]
  },
  {
   "cell_type": "markdown",
   "id": "2070ee20",
   "metadata": {},
   "source": [
    "This is a stand-alone module to produce segmentation of input images by using a pre-trained model."
   ]
  },
  {
   "cell_type": "code",
   "execution_count": 4,
   "id": "1b45a87d",
   "metadata": {},
   "outputs": [
    {
     "name": "stdout",
     "output_type": "stream",
     "text": [
      "Inference session will start shortly..\n",
      "Aborting the preprocessing procedure!\n",
      "\n",
      "Running with CPU\n",
      "Prediction procedure starts!\n",
      "100%|█████████████████████████████████████████████| 8/8 [01:03<00:00,  7.98s/it]\n",
      "Prediction procedure ends! Please wait for the post processing!\n",
      "Traceback (most recent call last):\n",
      "  File \"/scratch/qbi/uqfribe1/postdoc/vessel_code/notebooks/./../inference.py\", line 49, in <module>\n",
      "    inference_postpo(threshold_vector[0], threshold_vector[1], pretrained_model, processed_data_list[i])\n",
      "  File \"/scratch/qbi/uqfribe1/postdoc/vessel_code/utils/module_utils.py\", line 192, in __call__\n",
      "    self.one_img_process(test_img_name, load_model, thresh, connect_thresh)\n",
      "  File \"/scratch/qbi/uqfribe1/postdoc/vessel_code/utils/module_utils.py\", line 175, in one_img_process\n",
      "    nib.save(nifimg_post, save_img_path_post)\n",
      "  File \"/scratch/qbi/uqfribe1/postdoc/vessel_code/tmp/miniconda/envs/vessel_boost/lib/python3.9/site-packages/nibabel/loadsave.py\", line 153, in save\n",
      "    img.to_filename(filename, **kwargs)\n",
      "  File \"/scratch/qbi/uqfribe1/postdoc/vessel_code/tmp/miniconda/envs/vessel_boost/lib/python3.9/site-packages/nibabel/filebasedimages.py\", line 319, in to_filename\n",
      "    self.to_file_map(**kwargs)\n",
      "  File \"/scratch/qbi/uqfribe1/postdoc/vessel_code/tmp/miniconda/envs/vessel_boost/lib/python3.9/site-packages/nibabel/nifti1.py\", line 2197, in to_file_map\n",
      "    super().to_file_map(file_map, dtype)\n",
      "  File \"/scratch/qbi/uqfribe1/postdoc/vessel_code/tmp/miniconda/envs/vessel_boost/lib/python3.9/site-packages/nibabel/analyze.py\", line 1046, in to_file_map\n",
      "    hdrf = hdr_fh.get_prepare_fileobj(mode='wb')\n",
      "  File \"/scratch/qbi/uqfribe1/postdoc/vessel_code/tmp/miniconda/envs/vessel_boost/lib/python3.9/site-packages/nibabel/fileholders.py\", line 70, in get_prepare_fileobj\n",
      "    obj = ImageOpener(self.filename, *args, **kwargs)\n",
      "  File \"/scratch/qbi/uqfribe1/postdoc/vessel_code/tmp/miniconda/envs/vessel_boost/lib/python3.9/site-packages/nibabel/openers.py\", line 150, in __init__\n",
      "    self.fobj = opener(fileish, *args, **kwargs)\n",
      "  File \"/scratch/qbi/uqfribe1/postdoc/vessel_code/tmp/miniconda/envs/vessel_boost/lib/python3.9/site-packages/nibabel/openers.py\", line 72, in _gzip_open\n",
      "    gzip_file = DeterministicGzipFile(filename, mode, compresslevel, mtime=mtime)\n",
      "  File \"/scratch/qbi/uqfribe1/postdoc/vessel_code/tmp/miniconda/envs/vessel_boost/lib/python3.9/site-packages/nibabel/openers.py\", line 57, in __init__\n",
      "    fileobj = self.myfileobj = open(filename, mode or 'rb')\n",
      "FileNotFoundError: [Errno 2] No such file or directory: './../data/predicted_label/sub017.nii.gz'\n"
     ]
    }
   ],
   "source": [
    "# Set the necessary parameters\n",
    "# If you set prep_mode to 4, which means no preprocessing will happen, then you don't have to set a path to store the preprocessed images\n",
    "!python ./../inference.py --ds_path ./../data/train/ --out_path ./../data/predicted_label/ --pretrained ./../models-tests --prep_mode 4"
   ]
  },
  {
   "cell_type": "code",
   "execution_count": 6,
   "id": "aeb55f49",
   "metadata": {},
   "outputs": [
    {
     "name": "stdout",
     "output_type": "stream",
     "text": [
      "Inference session will start shortly..\n",
      "The preprocessing procedure is starting!\n",
      "\n",
      "100%|████████████████████████████████████████████| 2/2 [03:49<00:00, 114.96s/it]\n",
      "All processed images are successfully saved!\n",
      "Running with CPU\n",
      "Prediction procedure starts!\n",
      "100%|█████████████████████████████████████████████| 8/8 [00:58<00:00,  7.26s/it]\n",
      "Prediction procedure ends! Please wait for the post processing!\n",
      "Traceback (most recent call last):\n",
      "  File \"/scratch/qbi/uqfribe1/postdoc/vessel_code/notebooks/./../inference.py\", line 49, in <module>\n",
      "    inference_postpo(threshold_vector[0], threshold_vector[1], pretrained_model, processed_data_list[i])\n",
      "  File \"/scratch/qbi/uqfribe1/postdoc/vessel_code/utils/module_utils.py\", line 192, in __call__\n",
      "    self.one_img_process(test_img_name, load_model, thresh, connect_thresh)\n",
      "  File \"/scratch/qbi/uqfribe1/postdoc/vessel_code/utils/module_utils.py\", line 175, in one_img_process\n",
      "    nib.save(nifimg_post, save_img_path_post)\n",
      "  File \"/scratch/qbi/uqfribe1/postdoc/vessel_code/tmp/miniconda/envs/vessel_boost/lib/python3.9/site-packages/nibabel/loadsave.py\", line 153, in save\n",
      "    img.to_filename(filename, **kwargs)\n",
      "  File \"/scratch/qbi/uqfribe1/postdoc/vessel_code/tmp/miniconda/envs/vessel_boost/lib/python3.9/site-packages/nibabel/filebasedimages.py\", line 319, in to_filename\n",
      "    self.to_file_map(**kwargs)\n",
      "  File \"/scratch/qbi/uqfribe1/postdoc/vessel_code/tmp/miniconda/envs/vessel_boost/lib/python3.9/site-packages/nibabel/nifti1.py\", line 2197, in to_file_map\n",
      "    super().to_file_map(file_map, dtype)\n",
      "  File \"/scratch/qbi/uqfribe1/postdoc/vessel_code/tmp/miniconda/envs/vessel_boost/lib/python3.9/site-packages/nibabel/analyze.py\", line 1046, in to_file_map\n",
      "    hdrf = hdr_fh.get_prepare_fileobj(mode='wb')\n",
      "  File \"/scratch/qbi/uqfribe1/postdoc/vessel_code/tmp/miniconda/envs/vessel_boost/lib/python3.9/site-packages/nibabel/fileholders.py\", line 70, in get_prepare_fileobj\n",
      "    obj = ImageOpener(self.filename, *args, **kwargs)\n",
      "  File \"/scratch/qbi/uqfribe1/postdoc/vessel_code/tmp/miniconda/envs/vessel_boost/lib/python3.9/site-packages/nibabel/openers.py\", line 150, in __init__\n",
      "    self.fobj = opener(fileish, *args, **kwargs)\n",
      "  File \"/scratch/qbi/uqfribe1/postdoc/vessel_code/tmp/miniconda/envs/vessel_boost/lib/python3.9/site-packages/nibabel/openers.py\", line 72, in _gzip_open\n",
      "    gzip_file = DeterministicGzipFile(filename, mode, compresslevel, mtime=mtime)\n",
      "  File \"/scratch/qbi/uqfribe1/postdoc/vessel_code/tmp/miniconda/envs/vessel_boost/lib/python3.9/site-packages/nibabel/openers.py\", line 57, in __init__\n",
      "    fileobj = self.myfileobj = open(filename, mode or 'rb')\n",
      "FileNotFoundError: [Errno 2] No such file or directory: './../data/predicted_label/sub017.nii.gz'\n"
     ]
    }
   ],
   "source": [
    "# If you set prep_mode to 1,2 or 3, which means both/one of denosing and N4 bias field correction will happen, then you have to set a path to store the preprocessed images\n",
    "!python ./../inference.py --ds_path ./../data/train/ --out_path ./../data/predicted_label/ --pretrained ./../models-tests --prep_mode 1 --ps_path ./../data/preprocessed_data/\n"
   ]
  },
  {
   "cell_type": "markdown",
   "id": "15dda4a9",
   "metadata": {},
   "source": [
    "## 3. Test-time adaptation "
   ]
  },
  {
   "cell_type": "markdown",
   "id": "2da245f6",
   "metadata": {},
   "source": [
    "Test-time adaptation module for further optimization of a pre-trained model. \n"
   ]
  },
  {
   "cell_type": "markdown",
   "id": "cf325dd9",
   "metadata": {},
   "source": [
    "### Pre-trained models promptly available on OSF\n",
    "\n",
    "We are currently provide 3 pre-trained models, you can download them to make infetence on your images by running the following cell:"
   ]
  },
  {
   "cell_type": "code",
   "execution_count": 9,
   "id": "572f6a5f",
   "metadata": {},
   "outputs": [
    {
     "name": "stdout",
     "output_type": "stream",
     "text": [
      "/scratch/qbi/uqfribe1/postdoc/vessel_code/notebooks\r\n"
     ]
    }
   ],
   "source": [
    "!pwd"
   ]
  },
  {
   "cell_type": "code",
   "execution_count": 11,
   "id": "40671286",
   "metadata": {},
   "outputs": [
    {
     "name": "stderr",
     "output_type": "stream",
     "text": [
      "\r",
      "  0%|          | 0.00/26.4M [00:00<?, ?bytes/s]\r",
      " 10%|▉         | 2.61M/26.4M [00:00<00:00, 26.0Mbytes/s]\r",
      " 88%|████████▊ | 23.2M/26.4M [00:00<00:00, 132Mbytes/s] \r",
      "100%|██████████| 26.4M/26.4M [00:00<00:00, 123Mbytes/s]\n"
     ]
    }
   ],
   "source": [
    "%%bash\n",
    "\n",
    "mkdir ./../saved_models\n",
    "\n",
    "cd ./../saved_models/\n",
    "osf -p jg7cr fetch /saved_models/Init_ep1000_lr1e3_tver\n"
   ]
  },
  {
   "cell_type": "markdown",
   "id": "f1f320dd",
   "metadata": {},
   "source": [
    "### TODO: TTA without a proxy"
   ]
  },
  {
   "cell_type": "code",
   "execution_count": null,
   "id": "c759a58e",
   "metadata": {},
   "outputs": [],
   "source": []
  },
  {
   "cell_type": "markdown",
   "id": "4578904b",
   "metadata": {},
   "source": [
    "### TODO: TTA with a specified proxy"
   ]
  },
  {
   "cell_type": "code",
   "execution_count": null,
   "id": "88c5923f",
   "metadata": {},
   "outputs": [],
   "source": []
  }
 ],
 "metadata": {
  "kernelspec": {
   "display_name": "Python 3",
   "language": "python",
   "name": "python3"
  },
  "language_info": {
   "codemirror_mode": {
    "name": "ipython",
    "version": 3
   },
   "file_extension": ".py",
   "mimetype": "text/x-python",
   "name": "python",
   "nbconvert_exporter": "python",
   "pygments_lexer": "ipython3",
   "version": "3.7.4"
  }
 },
 "nbformat": 4,
 "nbformat_minor": 5
}
