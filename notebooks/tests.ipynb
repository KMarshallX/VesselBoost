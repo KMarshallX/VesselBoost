{
 "cells": [
  {
   "cell_type": "markdown",
   "id": "3271cab5",
   "metadata": {},
   "source": [
    "# Vessel boost toolbox"
   ]
  },
  {
   "cell_type": "markdown",
   "id": "a1323165",
   "metadata": {},
   "source": [
    "## 1. Initinal training"
   ]
  },
  {
   "cell_type": "markdown",
   "id": "93cb4ec8",
   "metadata": {},
   "source": [
    "If you are working outside of a container, you can store you data under *data* folder as the instruction below. If you are working inside a container, you can mount your data folder to *./data/train/* and  *./data/label/*.\n",
    "\n",
    "Please make sure that the name of a segmentation image file should contain the FULL NAME of its corresponding MRI image. \n",
    "e.g.:\n",
    "\n",
    "**Raw image:** TOF_3895.nii.gz\n",
    "\n",
    "**Segmentation image:** seg_TOF_3895.nii.gz or TOF_3895_seg.nii.gz, just make sure it contains the \"TOF_3895\"."
   ]
  },
  {
   "cell_type": "code",
   "execution_count": 4,
   "id": "6f0a2fca",
   "metadata": {
    "scrolled": true
   },
   "outputs": [],
   "source": [
    "# Set the necessary parameters\n",
    "# If you set prep_mode to 4, which means no preprocessing will happen, then you don't have to set a path to store the preprocessed images\n",
    "!python ./../1_train.py --ds_path ./../data/validate/ --lb_path ./../data/validate_label/ --prep_mode 4 --ep 10 --lr 1e-3 --outmo ./../models-tests\n"
   ]
  },
  {
   "cell_type": "code",
   "execution_count": 1,
   "id": "6e6020ae",
   "metadata": {},
   "outputs": [
    {
     "name": "stdout",
     "output_type": "stream",
     "text": [
      "Training session will start shortly..\n",
      "The preprocessing procedure is starting!\n",
      "\n",
      "100%|████████████████████████████████████████████| 2/2 [03:46<00:00, 113.20s/it]\n",
      "All processed images are successfully saved!\n",
      "  0%|                                                     | 0/2 [00:00<?, ?it/s]Current training image: ./../data/preprocessed_data/sub017.nii.gz, current training label: ./../data/label/sub017.nii\n",
      "\n",
      "                                                                                \u001b[A\n",
      "\u001b[AEpoch: [1/10], Loss:  0.9465, Current learning rate:  0.00100000             \n",
      "  0%|                                                     | 0/2 [00:44<?, ?it/s]\n",
      "  0%|                                                    | 0/10 [00:43<?, ?it/s]\u001b[A\n",
      "                                                                                \u001b[A\n",
      "\u001b[AEpoch: [2/10], Loss:  0.9352, Current learning rate:  0.00100000             \n",
      "  0%|                                                     | 0/2 [01:22<?, ?it/s]\n",
      " 10%|████▍                                       | 1/10 [01:21<06:27, 43.06s/it]\u001b[A\n",
      "                                                                                \u001b[A\n",
      "\u001b[AEpoch: [3/10], Loss:  0.9133, Current learning rate:  0.00100000             \n",
      "  0%|                                                     | 0/2 [02:04<?, ?it/s]\n",
      " 20%|████████▊                                   | 2/10 [02:03<05:20, 40.07s/it]\u001b[A\n",
      "                                                                                \u001b[A\n",
      "\u001b[AEpoch: [4/10], Loss:  0.8157, Current learning rate:  0.00100000             \n",
      "  0%|                                                     | 0/2 [02:48<?, ?it/s]\n",
      " 30%|█████████████▏                              | 3/10 [02:47<04:49, 41.31s/it]\u001b[A\n",
      "                                                                                \u001b[A\n",
      "\u001b[AEpoch: [5/10], Loss:  0.8695, Current learning rate:  0.00100000             \n",
      "  0%|                                                     | 0/2 [03:35<?, ?it/s]\n",
      " 40%|█████████████████▌                          | 4/10 [03:34<04:13, 42.19s/it]\u001b[A\n",
      "                                                                                \u001b[A\n",
      "\u001b[AEpoch: [6/10], Loss:  0.8845, Current learning rate:  0.00100000             \n",
      "  0%|                                                     | 0/2 [04:20<?, ?it/s]\n",
      " 50%|██████████████████████                      | 5/10 [04:19<03:39, 43.97s/it]\u001b[A\n",
      "                                                                                \u001b[A\n",
      "\u001b[AEpoch: [7/10], Loss:  0.9048, Current learning rate:  0.00095000             \n",
      "  0%|                                                     | 0/2 [05:08<?, ?it/s]\n",
      " 60%|██████████████████████████▍                 | 6/10 [05:07<02:57, 44.43s/it]\u001b[A\n",
      "                                                                                \u001b[A\n",
      "\u001b[AEpoch: [8/10], Loss:  0.8726, Current learning rate:  0.00095000             \n",
      "  0%|                                                     | 0/2 [05:53<?, ?it/s]\n",
      " 70%|██████████████████████████████▊             | 7/10 [05:52<02:16, 45.48s/it]\u001b[A\n",
      "                                                                                \u001b[A\n",
      "\u001b[AEpoch: [9/10], Loss:  0.9730, Current learning rate:  0.00095000             \n",
      "  0%|                                                     | 0/2 [06:37<?, ?it/s]\n",
      " 80%|███████████████████████████████████▏        | 8/10 [06:36<01:30, 45.24s/it]\u001b[A\n",
      "                                                                                \u001b[A\n",
      "\u001b[AEpoch: [10/10], Loss:  0.9453, Current learning rate:  0.00090250            \n",
      "  0%|                                                     | 0/2 [07:22<?, ?it/s]\n",
      " 90%|███████████████████████████████████████▌    | 9/10 [07:21<00:45, 45.03s/it]\u001b[A\n",
      "100%|███████████████████████████████████████████| 10/10 [07:21<00:00, 44.15s/it]\u001b[A\n",
      "File number [1/2]                                                               \n",
      " 50%|██████████████████████                      | 1/2 [07:22<07:22, 442.55s/it]Current training image: ./../data/preprocessed_data/sub007.nii.gz, current training label: ./../data/label/sub007.nii\n",
      "\n",
      "  0%|                                                    | 0/10 [00:00<?, ?it/s]\u001b[A\n",
      "Epoch: [1/10], Loss:  0.9296, Current learning rate:  0.00090250                \n",
      "\n",
      " 50%|██████████████████████                      | 1/2 [08:09<07:22, 442.55s/it]\u001b[A\n",
      " 10%|████▍                                       | 1/10 [00:45<06:52, 45.86s/it]\u001b[A\n",
      "Epoch: [2/10], Loss:  0.9595, Current learning rate:  0.00090250                \n",
      "\n",
      " 50%|██████████████████████                      | 1/2 [08:55<07:22, 442.55s/it]\u001b[A\n",
      " 20%|████████▊                                   | 2/10 [01:31<06:06, 45.77s/it]\u001b[A\n",
      "Epoch: [3/10], Loss:  0.9339, Current learning rate:  0.00085737                \n",
      "\n",
      " 50%|██████████████████████                      | 1/2 [09:40<07:22, 442.55s/it]\u001b[A\n",
      " 30%|█████████████▏                              | 3/10 [02:16<05:19, 45.59s/it]\u001b[A\n",
      "Epoch: [4/10], Loss:  0.9322, Current learning rate:  0.00085737                \n",
      "\n",
      " 50%|██████████████████████                      | 1/2 [10:27<07:22, 442.55s/it]\u001b[A\n",
      " 40%|█████████████████▌                          | 4/10 [03:03<04:36, 46.06s/it]\u001b[A\n",
      "Epoch: [5/10], Loss:  0.8902, Current learning rate:  0.00085737                \n",
      "\n",
      " 50%|██████████████████████                      | 1/2 [11:12<07:22, 442.55s/it]\u001b[A\n",
      " 50%|██████████████████████                      | 5/10 [03:48<03:48, 45.68s/it]\u001b[A\n",
      "Epoch: [6/10], Loss:  0.8748, Current learning rate:  0.00081451                \n",
      "\n",
      " 50%|██████████████████████                      | 1/2 [11:56<07:22, 442.55s/it]\u001b[A\n",
      " 60%|██████████████████████████▍                 | 6/10 [04:32<03:00, 45.15s/it]\u001b[A\n",
      "Epoch: [7/10], Loss:  0.9294, Current learning rate:  0.00081451                \n",
      "\n",
      " 50%|██████████████████████                      | 1/2 [12:35<07:22, 442.55s/it]\u001b[A\n",
      " 70%|██████████████████████████████▊             | 7/10 [05:11<02:09, 43.05s/it]\u001b[A\n",
      "Epoch: [8/10], Loss:  0.9286, Current learning rate:  0.00081451                \n",
      "\n",
      " 50%|██████████████████████                      | 1/2 [13:08<07:22, 442.55s/it]\u001b[A\n",
      " 80%|███████████████████████████████████▏        | 8/10 [05:45<01:20, 40.02s/it]\u001b[A\n",
      "Epoch: [9/10], Loss:  0.8962, Current learning rate:  0.00077378                \n",
      "\n",
      " 50%|██████████████████████                      | 1/2 [13:39<07:22, 442.55s/it]\u001b[A\n",
      " 90%|███████████████████████████████████████▌    | 9/10 [06:16<00:37, 37.25s/it]\u001b[A\n",
      "Epoch: [10/10], Loss:  0.9196, Current learning rate:  0.00077378               \n",
      "\n",
      " 50%|██████████████████████                      | 1/2 [14:16<07:22, 442.55s/it]\u001b[A\n",
      "100%|███████████████████████████████████████████| 10/10 [06:52<00:00, 41.28s/it]\u001b[A\n",
      "File number [2/2]                                                               \n",
      "100%|████████████████████████████████████████████| 2/2 [14:16<00:00, 428.24s/it]\n",
      "Training finished! Please wait for the model to be saved!\n",
      "Model successfully saved! The location of the saved model is: ./../models-tests\n"
     ]
    }
   ],
   "source": [
    "# If you set prep_mode to 1,2 or 3, which means both/one of denosing and N4 bias field correction will happen, then you have to set a path to store the preprocessed images\n",
    "!python ./../1_train.py --inimg ./../data/train/ --inlab ./../data/label/ --prep_mode 1 --ps_path ./../data/preprocessed_data/ --ep 10 --lr 1e-3 --outmo ./../models-tests"
   ]
  },
  {
   "cell_type": "markdown",
   "id": "4c82ea5a",
   "metadata": {},
   "source": [
    "## 2. Inference"
   ]
  },
  {
   "cell_type": "markdown",
   "id": "2070ee20",
   "metadata": {},
   "source": [
    "This is a stand-alone module to produce segmentation of input images by using a pre-trained model."
   ]
  },
  {
   "cell_type": "code",
   "execution_count": 3,
   "id": "1b45a87d",
   "metadata": {},
   "outputs": [],
   "source": [
    "# Set the necessary parameters\n",
    "# If you set prep_mode to 4, which means no preprocessing will happen, then you don't have to set a path to store the preprocessed images\n",
    "!python ./../2_inference.py --ds_path ./../data/validate/ --out_path ./../data/predicted_label/ --pretrained ./../models-tests --prep_mode 4"
   ]
  },
  {
   "cell_type": "code",
   "execution_count": 2,
   "id": "aeb55f49",
   "metadata": {},
   "outputs": [],
   "source": [
    "# If you set prep_mode to 1,2 or 3, which means both/one of denosing and N4 bias field correction will happen, then you have to set a path to store the preprocessed images\n",
    "!python ./../2_inference.py --ds_path ./../data/train/ --out_path ./../data/predicted_label/ --pretrained ./../models-tests --prep_mode 1 --ps_path ./../data/preprocessed_data/\n"
   ]
  },
  {
   "cell_type": "markdown",
   "id": "15dda4a9",
   "metadata": {},
   "source": [
    "## 3. Test-time adaptation "
   ]
  },
  {
   "cell_type": "markdown",
   "id": "2da245f6",
   "metadata": {},
   "source": [
    "Test-time adaptation module for further optimization of a pre-trained model. \n"
   ]
  },
  {
   "cell_type": "markdown",
   "id": "cf325dd9",
   "metadata": {},
   "source": [
    "### Pre-trained models promptly available on OSF\n",
    "\n",
    "We are currently provide 3 pre-trained models, you can download them to make infetence on your images by running the following cell:"
   ]
  },
  {
   "cell_type": "code",
   "execution_count": 9,
   "id": "572f6a5f",
   "metadata": {},
   "outputs": [
    {
     "name": "stdout",
     "output_type": "stream",
     "text": [
      "/scratch/qbi/uqfribe1/postdoc/vessel_code/notebooks\r\n"
     ]
    }
   ],
   "source": [
    "!pwd"
   ]
  },
  {
   "cell_type": "code",
   "execution_count": 11,
   "id": "40671286",
   "metadata": {},
   "outputs": [
    {
     "name": "stderr",
     "output_type": "stream",
     "text": [
      "\r\n",
      "  0%|          | 0.00/26.4M [00:00<?, ?bytes/s]\r\n",
      " 10%|▉         | 2.61M/26.4M [00:00<00:00, 26.0Mbytes/s]\r\n",
      " 88%|████████▊ | 23.2M/26.4M [00:00<00:00, 132Mbytes/s] \r\n",
      "100%|██████████| 26.4M/26.4M [00:00<00:00, 123Mbytes/s]\n"
     ]
    }
   ],
   "source": [
    "%%bash\n",
    "\n",
    "mkdir ./../saved_models\n",
    "\n",
    "cd ./../saved_models/\n",
    "osf -p jg7cr fetch /saved_models/Init_ep1000_lr1e3_tver\n"
   ]
  },
  {
   "cell_type": "markdown",
   "id": "f1f320dd",
   "metadata": {},
   "source": [
    "### TODO: TTA without a proxy"
   ]
  },
  {
   "cell_type": "code",
   "execution_count": null,
   "id": "c759a58e",
   "metadata": {},
   "outputs": [],
   "source": []
  },
  {
   "cell_type": "markdown",
   "id": "4578904b",
   "metadata": {},
   "source": [
    "### TODO: TTA with a specified proxy"
   ]
  },
  {
   "cell_type": "code",
   "execution_count": null,
   "id": "88c5923f",
   "metadata": {},
   "outputs": [],
   "source": []
  }
 ],
 "metadata": {
  "kernelspec": {
   "display_name": "Python 3",
   "language": "python",
   "name": "python3"
  },
  "language_info": {
   "codemirror_mode": {
    "name": "ipython",
    "version": 3
   },
   "file_extension": ".py",
   "mimetype": "text/x-python",
   "name": "python",
   "nbconvert_exporter": "python",
   "pygments_lexer": "ipython3",
   "version": "3.9.15"
  }
 },
 "nbformat": 4,
 "nbformat_minor": 5
}
