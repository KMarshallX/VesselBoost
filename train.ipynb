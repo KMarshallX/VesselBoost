{
 "cells": [
  {
   "cell_type": "code",
   "execution_count": 1,
   "metadata": {},
   "outputs": [],
   "source": [
    "import torch\n",
    "import torch.nn.functional as F\n",
    "from tqdm import tqdm\n",
    "import nibabel as nib\n",
    "\n",
    "from utils.unet_utils import DiceLoss, FocalLoss\n",
    "from utils.data_loader import data_loader\n",
    "from models.unet_3d import Unet"
   ]
  },
  {
   "cell_type": "code",
   "execution_count": 2,
   "metadata": {},
   "outputs": [
    {
     "name": "stdout",
     "output_type": "stream",
     "text": [
      "11.7\n",
      "True\n"
     ]
    }
   ],
   "source": [
    "print(torch.version.cuda)\n",
    "print(torch.cuda.is_available())"
   ]
  },
  {
   "cell_type": "code",
   "execution_count": 2,
   "metadata": {},
   "outputs": [],
   "source": [
    "raw_img = \"./data/raw_test.nii.gz\"\n",
    "seg_img = \"./data/seg_test.nii.gz\""
   ]
  },
  {
   "cell_type": "code",
   "execution_count": 3,
   "metadata": {},
   "outputs": [],
   "source": [
    "patch_size = (64,64,64)\n",
    "patch_step = 64\n",
    "in_chan = 1\n",
    "out_chan = 1\n",
    "filter_num = 32\n",
    "learning_rate = 1e-3\n",
    "epoch_num = 2\n",
    "step_num = 270\n",
    "    \n",
    "\n",
    "model = Unet(in_chan, out_chan, filter_num)\n",
    "criterion = FocalLoss()\n",
    "metric = DiceLoss()\n",
    "optimizer = torch.optim.Adam(model.parameters(), learning_rate)\n"
   ]
  },
  {
   "cell_type": "code",
   "execution_count": 4,
   "metadata": {},
   "outputs": [
    {
     "name": "stderr",
     "output_type": "stream",
     "text": [
      "  0%|          | 0/270 [00:02<?, ?it/s]\n",
      "  0%|          | 0/2 [00:02<?, ?it/s]\n"
     ]
    },
    {
     "ename": "KeyboardInterrupt",
     "evalue": "",
     "output_type": "error",
     "traceback": [
      "\u001b[1;31m---------------------------------------------------------------------------\u001b[0m",
      "\u001b[1;31mKeyboardInterrupt\u001b[0m                         Traceback (most recent call last)",
      "Cell \u001b[1;32mIn[4], line 6\u001b[0m\n\u001b[0;32m      3\u001b[0m patch_gen \u001b[39m=\u001b[39m data_loader(raw_img, seg_img, patch_size, patch_step)\n\u001b[0;32m      4\u001b[0m \u001b[39mfor\u001b[39;00m step \u001b[39min\u001b[39;00m tqdm(\u001b[39mrange\u001b[39m(step_num)): \n\u001b[1;32m----> 6\u001b[0m     image, label \u001b[39m=\u001b[39m \u001b[39mnext\u001b[39;49m(patch_gen)\n\u001b[0;32m      8\u001b[0m     \u001b[39m# Forward pass\u001b[39;00m\n\u001b[0;32m      9\u001b[0m     output \u001b[39m=\u001b[39m model(image\u001b[39m.\u001b[39munsqueeze(\u001b[39m0\u001b[39m))\n",
      "File \u001b[1;32md:\\Personal Files\\AIintern\\vessel_summer\\utils\\data_loader.py:61\u001b[0m, in \u001b[0;36mdata_loader\u001b[1;34m(raw_img, seg_img, patch_size, step)\u001b[0m\n\u001b[0;32m     59\u001b[0m \u001b[39mdef\u001b[39;00m \u001b[39mdata_loader\u001b[39m(raw_img, seg_img, patch_size, step):\n\u001b[1;32m---> 61\u001b[0m     patches_num, input_imgs, input_msks \u001b[39m=\u001b[39m _data_loader(raw_img, seg_img, patch_size, step)\n\u001b[0;32m     63\u001b[0m     \u001b[39mfor\u001b[39;00m i \u001b[39min\u001b[39;00m \u001b[39mrange\u001b[39m(patches_num):\n\u001b[0;32m     64\u001b[0m         \u001b[39m# Normalization\u001b[39;00m\n\u001b[0;32m     65\u001b[0m         \u001b[39mif\u001b[39;00m np\u001b[39m.\u001b[39mamax(input_imgs[i]) \u001b[39m!=\u001b[39m \u001b[39m0\u001b[39m:\n",
      "File \u001b[1;32md:\\Personal Files\\AIintern\\vessel_summer\\utils\\data_loader.py:33\u001b[0m, in \u001b[0;36m_data_loader\u001b[1;34m(raw_img, seg_img, patch_size, step)\u001b[0m\n\u001b[0;32m     24\u001b[0m \u001b[39mdef\u001b[39;00m \u001b[39m_data_loader\u001b[39m(raw_img, seg_img, patch_size, step):\n\u001b[0;32m     26\u001b[0m     \u001b[39m\"\"\"\u001b[39;00m\n\u001b[0;32m     27\u001b[0m \u001b[39m    :param raw_img: str, path of the raw file\u001b[39;00m\n\u001b[0;32m     28\u001b[0m \u001b[39m    :param seg_img: str, path of the label file\u001b[39;00m\n\u001b[0;32m     29\u001b[0m \u001b[39m    :param patch_size: tuple, e.g. (32,32,32)\u001b[39;00m\n\u001b[0;32m     30\u001b[0m \u001b[39m    :param step: if step >= patch_size then no overlap between patches \u001b[39;00m\n\u001b[0;32m     31\u001b[0m \u001b[39m    \"\"\"\u001b[39;00m\n\u001b[1;32m---> 33\u001b[0m     raw_arr \u001b[39m=\u001b[39m nib\u001b[39m.\u001b[39;49mload(raw_img)\u001b[39m.\u001b[39;49mget_fdata() \u001b[39m# (1090*1280*52)\u001b[39;00m\n\u001b[0;32m     34\u001b[0m     seg_arr \u001b[39m=\u001b[39m nib\u001b[39m.\u001b[39mload(seg_img)\u001b[39m.\u001b[39mget_fdata()\n\u001b[0;32m     36\u001b[0m     \u001b[39m# Cropping (using Saskia's data as template), make em the same size\u001b[39;00m\n",
      "File \u001b[1;32mc:\\Users\\Marshall Xu\\.conda\\envs\\summer\\lib\\site-packages\\nibabel\\dataobj_images.py:355\u001b[0m, in \u001b[0;36mDataobjImage.get_fdata\u001b[1;34m(self, caching, dtype)\u001b[0m\n\u001b[0;32m    351\u001b[0m         \u001b[39mreturn\u001b[39;00m \u001b[39mself\u001b[39m\u001b[39m.\u001b[39m_fdata_cache\n\u001b[0;32m    352\u001b[0m \u001b[39m# Always return requested data type\u001b[39;00m\n\u001b[0;32m    353\u001b[0m \u001b[39m# For array proxies, will attempt to confine data array to dtype\u001b[39;00m\n\u001b[0;32m    354\u001b[0m \u001b[39m# during scaling\u001b[39;00m\n\u001b[1;32m--> 355\u001b[0m data \u001b[39m=\u001b[39m np\u001b[39m.\u001b[39;49masanyarray(\u001b[39mself\u001b[39;49m\u001b[39m.\u001b[39;49m_dataobj, dtype\u001b[39m=\u001b[39;49mdtype)\n\u001b[0;32m    356\u001b[0m \u001b[39mif\u001b[39;00m caching \u001b[39m==\u001b[39m \u001b[39m'\u001b[39m\u001b[39mfill\u001b[39m\u001b[39m'\u001b[39m:\n\u001b[0;32m    357\u001b[0m     \u001b[39mself\u001b[39m\u001b[39m.\u001b[39m_fdata_cache \u001b[39m=\u001b[39m data\n",
      "File \u001b[1;32mc:\\Users\\Marshall Xu\\.conda\\envs\\summer\\lib\\site-packages\\nibabel\\arrayproxy.py:370\u001b[0m, in \u001b[0;36mArrayProxy.__array__\u001b[1;34m(self, dtype)\u001b[0m\n\u001b[0;32m    349\u001b[0m \u001b[39mdef\u001b[39;00m \u001b[39m__array__\u001b[39m(\u001b[39mself\u001b[39m, dtype\u001b[39m=\u001b[39m\u001b[39mNone\u001b[39;00m):\n\u001b[0;32m    350\u001b[0m     \u001b[39m\"\"\" Read data from file and apply scaling, casting to ``dtype``\u001b[39;00m\n\u001b[0;32m    351\u001b[0m \n\u001b[0;32m    352\u001b[0m \u001b[39m    If ``dtype`` is unspecified, the dtype of the returned array is the\u001b[39;00m\n\u001b[1;32m   (...)\u001b[0m\n\u001b[0;32m    368\u001b[0m \u001b[39m        Scaled image data with type `dtype`.\u001b[39;00m\n\u001b[0;32m    369\u001b[0m \u001b[39m    \"\"\"\u001b[39;00m\n\u001b[1;32m--> 370\u001b[0m     arr \u001b[39m=\u001b[39m \u001b[39mself\u001b[39;49m\u001b[39m.\u001b[39;49m_get_scaled(dtype\u001b[39m=\u001b[39;49mdtype, slicer\u001b[39m=\u001b[39;49m())\n\u001b[0;32m    371\u001b[0m     \u001b[39mif\u001b[39;00m dtype \u001b[39mis\u001b[39;00m \u001b[39mnot\u001b[39;00m \u001b[39mNone\u001b[39;00m:\n\u001b[0;32m    372\u001b[0m         arr \u001b[39m=\u001b[39m arr\u001b[39m.\u001b[39mastype(dtype, copy\u001b[39m=\u001b[39m\u001b[39mFalse\u001b[39;00m)\n",
      "File \u001b[1;32mc:\\Users\\Marshall Xu\\.conda\\envs\\summer\\lib\\site-packages\\nibabel\\arrayproxy.py:337\u001b[0m, in \u001b[0;36mArrayProxy._get_scaled\u001b[1;34m(self, dtype, slicer)\u001b[0m\n\u001b[0;32m    335\u001b[0m     scl_inter \u001b[39m=\u001b[39m scl_inter\u001b[39m.\u001b[39mastype(use_dtype)\n\u001b[0;32m    336\u001b[0m \u001b[39m# Read array and upcast as necessary for big slopes, intercepts\u001b[39;00m\n\u001b[1;32m--> 337\u001b[0m scaled \u001b[39m=\u001b[39m apply_read_scaling(\u001b[39mself\u001b[39;49m\u001b[39m.\u001b[39;49m_get_unscaled(slicer\u001b[39m=\u001b[39;49mslicer), scl_slope, scl_inter)\n\u001b[0;32m    338\u001b[0m \u001b[39mif\u001b[39;00m dtype \u001b[39mis\u001b[39;00m \u001b[39mnot\u001b[39;00m \u001b[39mNone\u001b[39;00m:\n\u001b[0;32m    339\u001b[0m     scaled \u001b[39m=\u001b[39m scaled\u001b[39m.\u001b[39mastype(np\u001b[39m.\u001b[39mpromote_types(scaled\u001b[39m.\u001b[39mdtype, dtype), copy\u001b[39m=\u001b[39m\u001b[39mFalse\u001b[39;00m)\n",
      "File \u001b[1;32mc:\\Users\\Marshall Xu\\.conda\\envs\\summer\\lib\\site-packages\\nibabel\\arrayproxy.py:311\u001b[0m, in \u001b[0;36mArrayProxy._get_unscaled\u001b[1;34m(self, slicer)\u001b[0m\n\u001b[0;32m    308\u001b[0m \u001b[39mif\u001b[39;00m canonical_slicers(slicer, \u001b[39mself\u001b[39m\u001b[39m.\u001b[39m_shape, \u001b[39mFalse\u001b[39;00m) \u001b[39m==\u001b[39m \\\n\u001b[0;32m    309\u001b[0m         canonical_slicers((), \u001b[39mself\u001b[39m\u001b[39m.\u001b[39m_shape, \u001b[39mFalse\u001b[39;00m):\n\u001b[0;32m    310\u001b[0m     \u001b[39mwith\u001b[39;00m \u001b[39mself\u001b[39m\u001b[39m.\u001b[39m_get_fileobj() \u001b[39mas\u001b[39;00m fileobj, \u001b[39mself\u001b[39m\u001b[39m.\u001b[39m_lock:\n\u001b[1;32m--> 311\u001b[0m         \u001b[39mreturn\u001b[39;00m array_from_file(\u001b[39mself\u001b[39;49m\u001b[39m.\u001b[39;49m_shape,\n\u001b[0;32m    312\u001b[0m                                \u001b[39mself\u001b[39;49m\u001b[39m.\u001b[39;49m_dtype,\n\u001b[0;32m    313\u001b[0m                                fileobj,\n\u001b[0;32m    314\u001b[0m                                offset\u001b[39m=\u001b[39;49m\u001b[39mself\u001b[39;49m\u001b[39m.\u001b[39;49m_offset,\n\u001b[0;32m    315\u001b[0m                                order\u001b[39m=\u001b[39;49m\u001b[39mself\u001b[39;49m\u001b[39m.\u001b[39;49morder,\n\u001b[0;32m    316\u001b[0m                                mmap\u001b[39m=\u001b[39;49m\u001b[39mself\u001b[39;49m\u001b[39m.\u001b[39;49m_mmap)\n\u001b[0;32m    317\u001b[0m \u001b[39mwith\u001b[39;00m \u001b[39mself\u001b[39m\u001b[39m.\u001b[39m_get_fileobj() \u001b[39mas\u001b[39;00m fileobj:\n\u001b[0;32m    318\u001b[0m     \u001b[39mreturn\u001b[39;00m fileslice(fileobj,\n\u001b[0;32m    319\u001b[0m                      slicer,\n\u001b[0;32m    320\u001b[0m                      \u001b[39mself\u001b[39m\u001b[39m.\u001b[39m_shape,\n\u001b[1;32m   (...)\u001b[0m\n\u001b[0;32m    323\u001b[0m                      order\u001b[39m=\u001b[39m\u001b[39mself\u001b[39m\u001b[39m.\u001b[39morder,\n\u001b[0;32m    324\u001b[0m                      lock\u001b[39m=\u001b[39m\u001b[39mself\u001b[39m\u001b[39m.\u001b[39m_lock)\n",
      "File \u001b[1;32mc:\\Users\\Marshall Xu\\.conda\\envs\\summer\\lib\\site-packages\\nibabel\\volumeutils.py:467\u001b[0m, in \u001b[0;36marray_from_file\u001b[1;34m(shape, in_dtype, infile, offset, order, mmap)\u001b[0m\n\u001b[0;32m    465\u001b[0m     n_read \u001b[39m=\u001b[39m \u001b[39mlen\u001b[39m(data_bytes)\n\u001b[0;32m    466\u001b[0m     needs_copy \u001b[39m=\u001b[39m \u001b[39mTrue\u001b[39;00m\n\u001b[1;32m--> 467\u001b[0m \u001b[39mif\u001b[39;00m n_bytes \u001b[39m!=\u001b[39;49m n_read:\n\u001b[0;32m    468\u001b[0m     \u001b[39mraise\u001b[39;00m \u001b[39mIOError\u001b[39;00m(\u001b[39mf\u001b[39m\u001b[39m\"\u001b[39m\u001b[39mExpected \u001b[39m\u001b[39m{\u001b[39;00mn_bytes\u001b[39m}\u001b[39;00m\u001b[39m bytes, got \u001b[39m\u001b[39m{\u001b[39;00mn_read\u001b[39m}\u001b[39;00m\u001b[39m bytes from \u001b[39m\u001b[39m\"\u001b[39m\n\u001b[0;32m    469\u001b[0m                   \u001b[39mf\u001b[39m\u001b[39m\"\u001b[39m\u001b[39m{\u001b[39;00m\u001b[39mgetattr\u001b[39m(infile, \u001b[39m'\u001b[39m\u001b[39mname\u001b[39m\u001b[39m'\u001b[39m, \u001b[39m'\u001b[39m\u001b[39mobject\u001b[39m\u001b[39m'\u001b[39m)\u001b[39m}\u001b[39;00m\u001b[39m\\n\u001b[39;00m\u001b[39m - could the file be damaged?\u001b[39m\u001b[39m\"\u001b[39m)\n\u001b[0;32m    470\u001b[0m arr \u001b[39m=\u001b[39m np\u001b[39m.\u001b[39mndarray(shape, in_dtype, buffer\u001b[39m=\u001b[39mdata_bytes, order\u001b[39m=\u001b[39morder)\n",
      "\u001b[1;31mKeyboardInterrupt\u001b[0m: "
     ]
    }
   ],
   "source": [
    "# traning loop\n",
    "for epoch in tqdm(range(epoch_num)):\n",
    "    patch_gen = data_loader(raw_img, seg_img, patch_size, patch_step)\n",
    "    for step in tqdm(range(step_num)): \n",
    "        \n",
    "        image, label = next(patch_gen)\n",
    "\n",
    "        # Forward pass\n",
    "        output = model(image.unsqueeze(0))\n",
    "        loss = criterion(output, label)\n",
    "        score = metric(output, label)\n",
    "        loss += 1 - score\n",
    "\n",
    "        # Backward and optimize\n",
    "        optimizer.zero_grad()\n",
    "        loss.backward()\n",
    "        optimizer.step()\n",
    "        \n",
    "        if (step+1) % 10 == 0:\n",
    "            print(f' Epoch [{epoch+1}/{epoch_num}], Step [{step+1}/{step_num}], Loss: {loss.item():.4f}')\n",
    "\n",
    "print(\"Finished Training\")\n",
    "   "
   ]
  },
  {
   "cell_type": "code",
   "execution_count": null,
   "metadata": {},
   "outputs": [],
   "source": [
    "# save the model\n",
    "torch.save(model.state_dict(), \"./saved_models/unet\")"
   ]
  },
  {
   "cell_type": "code",
   "execution_count": null,
   "metadata": {},
   "outputs": [
    {
     "data": {
      "text/plain": [
       "Unet(\n",
       "  (conv): ConvBlock(\n",
       "    (convb): Sequential(\n",
       "      (0): Conv3d(1, 32, kernel_size=(3, 3, 3), stride=(1, 1, 1), padding=(1, 1, 1))\n",
       "      (1): BatchNorm3d(32, eps=1e-05, momentum=0.1, affine=True, track_running_stats=True)\n",
       "      (2): ReLU(inplace=True)\n",
       "      (3): Conv3d(32, 32, kernel_size=(3, 3, 3), stride=(1, 1, 1), padding=(1, 1, 1))\n",
       "      (4): BatchNorm3d(32, eps=1e-05, momentum=0.1, affine=True, track_running_stats=True)\n",
       "      (5): ReLU(inplace=True)\n",
       "    )\n",
       "  )\n",
       "  (EncB1): EncBlock(\n",
       "    (encoder): Sequential(\n",
       "      (0): MaxPool3d(kernel_size=2, stride=2, padding=0, dilation=1, ceil_mode=False)\n",
       "      (1): ConvBlock(\n",
       "        (convb): Sequential(\n",
       "          (0): Conv3d(32, 64, kernel_size=(3, 3, 3), stride=(1, 1, 1), padding=(1, 1, 1))\n",
       "          (1): BatchNorm3d(64, eps=1e-05, momentum=0.1, affine=True, track_running_stats=True)\n",
       "          (2): ReLU(inplace=True)\n",
       "          (3): Conv3d(64, 64, kernel_size=(3, 3, 3), stride=(1, 1, 1), padding=(1, 1, 1))\n",
       "          (4): BatchNorm3d(64, eps=1e-05, momentum=0.1, affine=True, track_running_stats=True)\n",
       "          (5): ReLU(inplace=True)\n",
       "        )\n",
       "      )\n",
       "    )\n",
       "  )\n",
       "  (EncB2): EncBlock(\n",
       "    (encoder): Sequential(\n",
       "      (0): MaxPool3d(kernel_size=2, stride=2, padding=0, dilation=1, ceil_mode=False)\n",
       "      (1): ConvBlock(\n",
       "        (convb): Sequential(\n",
       "          (0): Conv3d(64, 128, kernel_size=(3, 3, 3), stride=(1, 1, 1), padding=(1, 1, 1))\n",
       "          (1): BatchNorm3d(128, eps=1e-05, momentum=0.1, affine=True, track_running_stats=True)\n",
       "          (2): ReLU(inplace=True)\n",
       "          (3): Conv3d(128, 128, kernel_size=(3, 3, 3), stride=(1, 1, 1), padding=(1, 1, 1))\n",
       "          (4): BatchNorm3d(128, eps=1e-05, momentum=0.1, affine=True, track_running_stats=True)\n",
       "          (5): ReLU(inplace=True)\n",
       "        )\n",
       "      )\n",
       "    )\n",
       "  )\n",
       "  (EncB3): EncBlock(\n",
       "    (encoder): Sequential(\n",
       "      (0): MaxPool3d(kernel_size=2, stride=2, padding=0, dilation=1, ceil_mode=False)\n",
       "      (1): ConvBlock(\n",
       "        (convb): Sequential(\n",
       "          (0): Conv3d(128, 256, kernel_size=(3, 3, 3), stride=(1, 1, 1), padding=(1, 1, 1))\n",
       "          (1): BatchNorm3d(256, eps=1e-05, momentum=0.1, affine=True, track_running_stats=True)\n",
       "          (2): ReLU(inplace=True)\n",
       "          (3): Conv3d(256, 256, kernel_size=(3, 3, 3), stride=(1, 1, 1), padding=(1, 1, 1))\n",
       "          (4): BatchNorm3d(256, eps=1e-05, momentum=0.1, affine=True, track_running_stats=True)\n",
       "          (5): ReLU(inplace=True)\n",
       "        )\n",
       "      )\n",
       "    )\n",
       "  )\n",
       "  (up1): ConvTranspose3d(256, 256, kernel_size=(2, 2, 2), stride=(2, 2, 2))\n",
       "  (DecB1): ConvBlock(\n",
       "    (convb): Sequential(\n",
       "      (0): Conv3d(384, 128, kernel_size=(3, 3, 3), stride=(1, 1, 1), padding=(1, 1, 1))\n",
       "      (1): BatchNorm3d(128, eps=1e-05, momentum=0.1, affine=True, track_running_stats=True)\n",
       "      (2): ReLU(inplace=True)\n",
       "      (3): Conv3d(128, 128, kernel_size=(3, 3, 3), stride=(1, 1, 1), padding=(1, 1, 1))\n",
       "      (4): BatchNorm3d(128, eps=1e-05, momentum=0.1, affine=True, track_running_stats=True)\n",
       "      (5): ReLU(inplace=True)\n",
       "    )\n",
       "  )\n",
       "  (up2): ConvTranspose3d(128, 128, kernel_size=(2, 2, 2), stride=(2, 2, 2))\n",
       "  (DecB2): ConvBlock(\n",
       "    (convb): Sequential(\n",
       "      (0): Conv3d(192, 64, kernel_size=(3, 3, 3), stride=(1, 1, 1), padding=(1, 1, 1))\n",
       "      (1): BatchNorm3d(64, eps=1e-05, momentum=0.1, affine=True, track_running_stats=True)\n",
       "      (2): ReLU(inplace=True)\n",
       "      (3): Conv3d(64, 64, kernel_size=(3, 3, 3), stride=(1, 1, 1), padding=(1, 1, 1))\n",
       "      (4): BatchNorm3d(64, eps=1e-05, momentum=0.1, affine=True, track_running_stats=True)\n",
       "      (5): ReLU(inplace=True)\n",
       "    )\n",
       "  )\n",
       "  (up3): ConvTranspose3d(64, 64, kernel_size=(2, 2, 2), stride=(2, 2, 2))\n",
       "  (DecB3): ConvBlock(\n",
       "    (convb): Sequential(\n",
       "      (0): Conv3d(96, 32, kernel_size=(3, 3, 3), stride=(1, 1, 1), padding=(1, 1, 1))\n",
       "      (1): BatchNorm3d(32, eps=1e-05, momentum=0.1, affine=True, track_running_stats=True)\n",
       "      (2): ReLU(inplace=True)\n",
       "      (3): Conv3d(32, 32, kernel_size=(3, 3, 3), stride=(1, 1, 1), padding=(1, 1, 1))\n",
       "      (4): BatchNorm3d(32, eps=1e-05, momentum=0.1, affine=True, track_running_stats=True)\n",
       "      (5): ReLU(inplace=True)\n",
       "    )\n",
       "  )\n",
       "  (out): Conv3d(32, 1, kernel_size=(1, 1, 1), stride=(1, 1, 1))\n",
       ")"
      ]
     },
     "execution_count": 4,
     "metadata": {},
     "output_type": "execute_result"
    }
   ],
   "source": [
    "#load the model\n",
    "load_model = Unet(in_chan, out_chan, filter_num)\n",
    "load_model.load_state_dict(torch.load(\"./saved_models/unet\"))\n",
    "load_model.eval()"
   ]
  },
  {
   "cell_type": "code",
   "execution_count": 3,
   "metadata": {},
   "outputs": [],
   "source": [
    "from patchify import patchify, unpatchify\n",
    "import numpy as np\n",
    "import matplotlib.pyplot as plt"
   ]
  },
  {
   "cell_type": "code",
   "execution_count": 4,
   "metadata": {},
   "outputs": [],
   "source": [
    "raw_arr = nib.load(raw_img).get_fdata() # (1080*1280*52)\n",
    "seg_arr = nib.load(seg_img).get_fdata()"
   ]
  },
  {
   "cell_type": "code",
   "execution_count": null,
   "metadata": {},
   "outputs": [],
   "source": [
    "def aug(img, msk, thickness):\n",
    "    \"\"\"\n",
    "    :params img: input 3D image\n",
    "    :params msk: imput 3D mask\n",
    "    :params thickness: expected augmented thickness of the data (in z-direction)\n",
    "    \"\"\"\n",
    "\n",
    "    diff = thickness - img.shape[2]\n",
    "    return np.concatenate((img, img[:,:,0:diff]), axis=2), np.concatenate((msk, msk[:,:,0:diff]), axis=2)"
   ]
  },
  {
   "cell_type": "code",
   "execution_count": null,
   "metadata": {},
   "outputs": [
    {
     "name": "stdout",
     "output_type": "stream",
     "text": [
      "(960, 1152, 64)\n"
     ]
    }
   ],
   "source": [
    "new_raw, new_seg = aug(raw_arr[64:1024, 64:1216, :], seg_arr[64:1024, 64:1216, :], 64)\n",
    "print(new_raw.shape)"
   ]
  },
  {
   "cell_type": "code",
   "execution_count": null,
   "metadata": {},
   "outputs": [],
   "source": [
    "test_patches = patchify(new_raw, (64,64,64), 64)"
   ]
  },
  {
   "cell_type": "code",
   "execution_count": null,
   "metadata": {},
   "outputs": [
    {
     "data": {
      "text/plain": [
       "(15, 18, 1, 64, 64, 64)"
      ]
     },
     "execution_count": 10,
     "metadata": {},
     "output_type": "execute_result"
    }
   ],
   "source": [
    "test_patches.shape"
   ]
  },
  {
   "cell_type": "code",
   "execution_count": null,
   "metadata": {},
   "outputs": [
    {
     "name": "stderr",
     "output_type": "stream",
     "text": [
      "100%|██████████| 15/15 [05:36<00:00, 22.45s/it]\n"
     ]
    }
   ],
   "source": [
    "# Predict each 3D patch  \n",
    "\n",
    "\n",
    "for i in tqdm(range(test_patches.shape[0])):\n",
    "  for j in range(test_patches.shape[1]):\n",
    "    for k in range(test_patches.shape[2]):\n",
    "      #print(i,j,k)\n",
    "      single_patch = test_patches[i,j,k, :,:,:]\n",
    "      single_patch_input = np.expand_dims(single_patch, axis=0)\n",
    "      single_patch_input = torch.from_numpy(single_patch_input).to(torch.float32).unsqueeze(0)\n",
    "\n",
    "      single_patch_prediction = load_model(single_patch_input)\n",
    "\n",
    "      single_patch_prediction_sigmoid = torch.sigmoid(single_patch_prediction)\n",
    "      single_patch_prediction_sigmoid = single_patch_prediction_sigmoid.detach().numpy()[0,0,:,:,:]\n",
    "      \n",
    "      test_patches[i,j,k, :,:,:] = single_patch_prediction_sigmoid"
   ]
  },
  {
   "cell_type": "code",
   "execution_count": null,
   "metadata": {},
   "outputs": [],
   "source": [
    "test_output = unpatchify(test_patches, (new_raw.shape[0],new_raw.shape[1],new_raw.shape[2]))"
   ]
  },
  {
   "cell_type": "code",
   "execution_count": null,
   "metadata": {},
   "outputs": [
    {
     "data": {
      "text/plain": [
       "<matplotlib.colorbar.Colorbar at 0x1cc4b86af70>"
      ]
     },
     "execution_count": 25,
     "metadata": {},
     "output_type": "execute_result"
    },
    {
     "data": {
      "image/png": "[encoded data removed]",
      "text/plain": [
       "<Figure size 640x480 with 2 Axes>"
      ]
     },
     "metadata": {},
     "output_type": "display_data"
    }
   ],
   "source": [
    "plt.figure()\n",
    "plt.imshow(test_output[:,:,0], cmap=\"gray\")\n",
    "plt.colorbar()"
   ]
  },
  {
   "cell_type": "code",
   "execution_count": null,
   "metadata": {},
   "outputs": [],
   "source": [
    "#Reshape to the shape we had after patchifying\n",
    "predicted_patches_reshaped = np.reshape(predicted_patches, \n",
    "                                        (patches.shape[0], patches.shape[1], patches.shape[2],\n",
    "                                         patches.shape[3], patches.shape[4], patches.shape[5]) )\n",
    "print(predicted_patches_reshaped.shape)"
   ]
  }
 ],
 "metadata": {
  "kernelspec": {
   "display_name": "summer",
   "language": "python",
   "name": "python3"
  },
  "language_info": {
   "codemirror_mode": {
    "name": "ipython",
    "version": 3
   },
   "file_extension": ".py",
   "mimetype": "text/x-python",
   "name": "python",
   "nbconvert_exporter": "python",
   "pygments_lexer": "ipython3",
   "version": "3.9.15 (main, Nov 24 2022, 14:39:17) [MSC v.1916 64 bit (AMD64)]"
  },
  "orig_nbformat": 4,
  "vscode": {
   "interpreter": {
    "hash": "d9525223984f2d71b5f5df90b8ac0ff62fe1836a03eec79f146a007f1c556d73"
   }
  }
 },
 "nbformat": 4,
 "nbformat_minor": 2
}
